{
  "nbformat": 4,
  "nbformat_minor": 0,
  "metadata": {
    "colab": {
      "name": "Untitled1.ipynb",
      "provenance": []
    },
    "kernelspec": {
      "name": "python3",
      "display_name": "Python 3"
    },
    "language_info": {
      "name": "python"
    }
  },
  "cells": [
    {
      "cell_type": "markdown",
      "source": [
        "# CLOVA Speech Recognition(CSR)"
      ],
      "metadata": {
        "id": "LBsonnVABPJh"
      }
    },
    {
      "cell_type": "code",
      "execution_count": 4,
      "metadata": {
        "colab": {
          "base_uri": "https://localhost:8080/"
        },
        "id": "Phr3us3-5dKz",
        "outputId": "eac44923-581b-4a60-8ca9-5930eff34ad3"
      },
      "outputs": [
        {
          "output_type": "stream",
          "name": "stdout",
          "text": [
            "{\"text\":\"남불 추 로켓트 피규어 멋진 남 불치의 뉴텝스 프 에이 리아나 데이터 인수 노조와 갱 미 락 이즈 백 래쉬 바순 재 소개팅녀와 스페인 리 비브라스 다한증엔 라인 하드 폴딩 게이트이니까 wants the next page\"}\n"
          ]
        }
      ],
      "source": [
        "import sys\n",
        "import requests\n",
        "client_id = \"YOUR_CLIENT_ID\"\n",
        "client_secret = \"YOUR_CLIENT_SECRET\"\n",
        "lang = \"Kor\" # 언어 코드 ( Kor, Jpn, Eng, Chn )\n",
        "url = \"https://naveropenapi.apigw.ntruss.com/recog/v1/stt?lang=\" + lang\n",
        "data = open('/content/FT-02.mp3', 'rb')\n",
        "headers = {\n",
        "    \"X-NCP-APIGW-API-KEY-ID\": 'is0x54abfw',\n",
        "    \"X-NCP-APIGW-API-KEY\": 'zBj1LcxbrsNwc4nJdaB1jwLEtM3GEV0aPD5kL6FT',\n",
        "    \"Content-Type\": \"application/octet-stream\"\n",
        "}\n",
        "response = requests.post(url,  data=data, headers=headers)\n",
        "rescode = response.status_code\n",
        "if(rescode == 200):\n",
        "    print (response.text)\n",
        "else:\n",
        "    print(\"Error : \" + response.text)"
      ]
    },
    {
      "cell_type": "markdown",
      "source": [
        "# CLOVA Speech"
      ],
      "metadata": {
        "id": "NBM-JnmBBPsL"
      }
    },
    {
      "cell_type": "code",
      "source": [
        "import requests\n",
        "import json\n",
        "\n",
        "\n",
        "class ClovaSpeechClient:\n",
        "    # Clova Speech invoke URL\n",
        "    invoke_url = 'https://clovaspeech-gw.ncloud.com/external/v1/2389/135ddb361331ff2821f583d720d636d5e9fc782ab76ece949d5ab49b83e39c85'\n",
        "    # Clova Speech secret key\n",
        "    secret = '523aadbce32e48d499728ffa3e9389a3'\n",
        "\n",
        "    def req_url(self, url, completion, callback=None, userdata=None, forbiddens=None, boostings=None, wordAlignment=True, fullText=True, diarization=None):\n",
        "        request_body = {\n",
        "            'url': url,\n",
        "            'language': 'en-US',\n",
        "            'completion': completion,\n",
        "            'callback': callback,\n",
        "            'userdata': userdata,\n",
        "            'wordAlignment': wordAlignment,\n",
        "            'fullText': fullText,\n",
        "            'forbiddens': forbiddens,\n",
        "            'boostings': boostings,\n",
        "            'diarization': diarization,\n",
        "        }\n",
        "        headers = {\n",
        "            'Accept': 'application/json;UTF-8',\n",
        "            'Content-Type': 'application/json;UTF-8',\n",
        "            'X-CLOVASPEECH-API-KEY': self.secret\n",
        "        }\n",
        "        return requests.post(headers=headers,\n",
        "                             url=self.invoke_url + '/recognizer/url',\n",
        "                             data=json.dumps(request_body).encode('UTF-8'))\n",
        "\n",
        "    def req_object_storage(self, data_key, completion, callback=None, userdata=None, forbiddens=None, boostings=None,\n",
        "                           wordAlignment=True, fullText=True, diarization=None):\n",
        "        request_body = {\n",
        "            'dataKey': data_key,\n",
        "            'language': 'en-US',\n",
        "            'completion': completion,\n",
        "            'callback': callback,\n",
        "            'userdata': userdata,\n",
        "            'wordAlignment': wordAlignment,\n",
        "            'fullText': fullText,\n",
        "            'forbiddens': forbiddens,\n",
        "            'boostings': boostings,\n",
        "            'diarization': diarization,\n",
        "        }\n",
        "        headers = {\n",
        "            'Accept': 'application/json;UTF-8',\n",
        "            'Content-Type': 'application/json;UTF-8',\n",
        "            'X-CLOVASPEECH-API-KEY': self.secret\n",
        "        }\n",
        "        return requests.post(headers=headers,\n",
        "                             url=self.invoke_url + '/recognizer/object-storage',\n",
        "                             data=json.dumps(request_body).encode('UTF-8'))\n",
        "\n",
        "    def req_upload(self, file, completion, callback=None, userdata=None, forbiddens=None, boostings=None,\n",
        "                   wordAlignment=True, fullText=True, diarization=None):\n",
        "        request_body = {\n",
        "            'language': 'en-US',\n",
        "            'completion': completion,\n",
        "            'callback': callback,\n",
        "            'userdata': userdata,\n",
        "            'wordAlignment': wordAlignment,\n",
        "            'fullText': fullText,\n",
        "            'forbiddens': forbiddens,\n",
        "            'boostings': boostings,\n",
        "            'diarization': diarization,\n",
        "        }\n",
        "        headers = {\n",
        "            'Accept': 'application/json;UTF-8',\n",
        "            'X-CLOVASPEECH-API-KEY': self.secret\n",
        "        }\n",
        "        print(json.dumps(request_body, ensure_ascii=False).encode('UTF-8'))\n",
        "        files = {\n",
        "            'media': open(file, 'rb'),\n",
        "            'params': (None, json.dumps(request_body, ensure_ascii=False).encode('UTF-8'), 'application/json')\n",
        "        }\n",
        "        response = requests.post(headers=headers, url=self.invoke_url + '/recognizer/upload', files=files)\n",
        "        return response\n",
        "\n",
        "if __name__ == '__main__':\n",
        "    # res = ClovaSpeechClient().req_url(url='http://example.com/media.mp3', completion='sync')\n",
        "    # res = ClovaSpeechClient().req_object_storage(data_key='data/media.mp3', completion='sync')\n",
        "    res = ClovaSpeechClient().req_upload(file='/content/FT-02.mp3', completion='sync')\n",
        "    print(res.text)"
      ],
      "metadata": {
        "colab": {
          "base_uri": "https://localhost:8080/"
        },
        "id": "a78qohZJ5wwh",
        "outputId": "744dd896-35af-4b0e-dd24-4627b1de832d"
      },
      "execution_count": 27,
      "outputs": [
        {
          "output_type": "stream",
          "name": "stdout",
          "text": [
            "b'{\"language\": \"en-US\", \"completion\": \"sync\", \"callback\": null, \"userdata\": null, \"wordAlignment\": true, \"fullText\": true, \"forbiddens\": null, \"boostings\": null, \"diarization\": null}'\n",
            "<bound method Response.json of <Response [200]>>\n"
          ]
        }
      ]
    },
    {
      "cell_type": "code",
      "source": [
        "res.text.split(',')[-8].split(':')[-1]\n",
        "# res.text"
      ],
      "metadata": {
        "colab": {
          "base_uri": "https://localhost:8080/",
          "height": 54
        },
        "id": "yvtrB6bjBvAp",
        "outputId": "d84277e5-9b78-4a0f-bd4d-084eccc8fa20"
      },
      "execution_count": 38,
      "outputs": [
        {
          "output_type": "execute_result",
          "data": {
            "text/plain": [
              "'\"number two look at the picture marked number two in your test book a. the elevator is not working. luggage is being loaded c passengers are getting off a plane d. people are standing in line at the boarding gate. go on to the next page.\"'"
            ],
            "application/vnd.google.colaboratory.intrinsic+json": {
              "type": "string"
            }
          },
          "metadata": {},
          "execution_count": 38
        }
      ]
    },
    {
      "cell_type": "code",
      "source": [
        "res.text.get('text')"
      ],
      "metadata": {
        "id": "N9Cht2BgCXul"
      },
      "execution_count": null,
      "outputs": []
    },
    {
      "cell_type": "code",
      "source": [
        ""
      ],
      "metadata": {
        "id": "YcWj_wB4G5RD"
      },
      "execution_count": null,
      "outputs": []
    }
  ]
}