{
  "nbformat": 4,
  "nbformat_minor": 0,
  "metadata": {
    "colab": {
      "name": "PastAPI_220223_pt",
      "provenance": [],
      "collapsed_sections": []
    },
    "kernelspec": {
      "name": "python3",
      "display_name": "Python 3"
    },
    "language_info": {
      "name": "python"
    }
  },
  "cells": [
    {
      "cell_type": "code",
      "source": [
        "pip install fastapi"
      ],
      "metadata": {
        "colab": {
          "base_uri": "https://localhost:8080/"
        },
        "id": "zbcWaShYh9El",
        "outputId": "a6f4c80e-e887-4946-db8a-6406b624db85"
      },
      "execution_count": 14,
      "outputs": [
        {
          "output_type": "stream",
          "name": "stdout",
          "text": [
            "Requirement already satisfied: fastapi in /usr/local/lib/python3.7/dist-packages (0.75.0)\n",
            "Requirement already satisfied: starlette==0.17.1 in /usr/local/lib/python3.7/dist-packages (from fastapi) (0.17.1)\n",
            "Requirement already satisfied: pydantic!=1.7,!=1.7.1,!=1.7.2,!=1.7.3,!=1.8,!=1.8.1,<2.0.0,>=1.6.2 in /usr/local/lib/python3.7/dist-packages (from fastapi) (1.9.0)\n",
            "Requirement already satisfied: typing-extensions in /usr/local/lib/python3.7/dist-packages (from starlette==0.17.1->fastapi) (3.10.0.2)\n",
            "Requirement already satisfied: anyio<4,>=3.0.0 in /usr/local/lib/python3.7/dist-packages (from starlette==0.17.1->fastapi) (3.5.0)\n",
            "Requirement already satisfied: sniffio>=1.1 in /usr/local/lib/python3.7/dist-packages (from anyio<4,>=3.0.0->starlette==0.17.1->fastapi) (1.2.0)\n",
            "Requirement already satisfied: idna>=2.8 in /usr/local/lib/python3.7/dist-packages (from anyio<4,>=3.0.0->starlette==0.17.1->fastapi) (2.10)\n"
          ]
        }
      ]
    },
    {
      "cell_type": "code",
      "source": [
        "pip install uvicorn"
      ],
      "metadata": {
        "colab": {
          "base_uri": "https://localhost:8080/"
        },
        "id": "WNtYUIW9iJk2",
        "outputId": "a0eb34b2-58a0-4cbc-877a-aac23f728378"
      },
      "execution_count": 15,
      "outputs": [
        {
          "output_type": "stream",
          "name": "stdout",
          "text": [
            "Requirement already satisfied: uvicorn in /usr/local/lib/python3.7/dist-packages (0.17.6)\n",
            "Requirement already satisfied: click>=7.0 in /usr/local/lib/python3.7/dist-packages (from uvicorn) (7.1.2)\n",
            "Requirement already satisfied: h11>=0.8 in /usr/local/lib/python3.7/dist-packages (from uvicorn) (0.13.0)\n",
            "Requirement already satisfied: typing-extensions in /usr/local/lib/python3.7/dist-packages (from uvicorn) (3.10.0.2)\n",
            "Requirement already satisfied: asgiref>=3.4.0 in /usr/local/lib/python3.7/dist-packages (from uvicorn) (3.5.0)\n"
          ]
        }
      ]
    },
    {
      "cell_type": "code",
      "source": [
        "from typing import Optional \n",
        "from fastapi import FastAPI \n",
        "\n",
        "app = FastAPI() \n",
        "\n",
        "@app.get(\"/\") \n",
        "def read_root(): \n",
        "  return {\"Hello\": \"World\"} \n",
        "  \n",
        "@app.get(\"/items/{item_id}\") \n",
        "def read_item(item_id: int, q: Optional[str] = None): \n",
        "  return {\"item_id\": item_id, \"q\": q}\n"
      ],
      "metadata": {
        "id": "8xDS97zFiQLv"
      },
      "execution_count": null,
      "outputs": []
    },
    {
      "cell_type": "code",
      "execution_count": null,
      "metadata": {
        "id": "VYtqhGIbgiYG"
      },
      "outputs": [],
      "source": [
        "from fastapi import FastAPI \n",
        "from time import time \n",
        "import asyncio \n",
        "\n",
        "app = FastAPI() \n",
        "\n",
        "URL = \"https://www.pexels.com/ko-kr/search/videos/%EC%96%BC%EA%B5%B4/\" \n",
        "\n",
        "async def request(client): \n",
        "  response = await client.get(URL) \n",
        "  return response.text \n",
        "  \n",
        "async def task(): \n",
        "  async with httpx.AsyncClient() as client: \n",
        "    tasks = [request(client) for i in range(100)] \n",
        "    result = await asyncio.gather(*tasks) \n",
        "    print(result) \n",
        "    \n",
        "    \n",
        "@app.get('/') \n",
        "async def f(): \n",
        "  start = time() \n",
        "  await task() \n",
        "  print(\"time: \", time() - start)\n"
      ]
    },
    {
      "cell_type": "code",
      "source": [
        "!ngrok authtoken 26PXxhhXNfcMTG7wcAUGx5qr0rn_2xQ3qGzbtjR7BDpmEFqT3"
      ],
      "metadata": {
        "colab": {
          "base_uri": "https://localhost:8080/"
        },
        "id": "COTAolFegzIe",
        "outputId": "17bcbece-8cc6-43c0-e1d2-d233f5e61cd7"
      },
      "execution_count": null,
      "outputs": [
        {
          "output_type": "stream",
          "name": "stdout",
          "text": [
            "/bin/bash: ngrok: command not found\n"
          ]
        }
      ]
    },
    {
      "cell_type": "markdown",
      "source": [
        "### PastAPI 더빙"
      ],
      "metadata": {
        "id": "OmMfzLtipNyn"
      }
    },
    {
      "cell_type": "code",
      "source": [
        "pip install pyngrok"
      ],
      "metadata": {
        "colab": {
          "base_uri": "https://localhost:8080/"
        },
        "id": "hRF3bC0MqQBW",
        "outputId": "24f4fb93-1e9a-4278-b075-ad021ff06859"
      },
      "execution_count": 19,
      "outputs": [
        {
          "output_type": "stream",
          "name": "stdout",
          "text": [
            "Collecting pyngrok\n",
            "  Downloading pyngrok-5.1.0.tar.gz (745 kB)\n",
            "\u001b[?25l\r\u001b[K     |▍                               | 10 kB 21.1 MB/s eta 0:00:01\r\u001b[K     |▉                               | 20 kB 12.8 MB/s eta 0:00:01\r\u001b[K     |█▎                              | 30 kB 9.9 MB/s eta 0:00:01\r\u001b[K     |█▊                              | 40 kB 4.4 MB/s eta 0:00:01\r\u001b[K     |██▏                             | 51 kB 4.4 MB/s eta 0:00:01\r\u001b[K     |██▋                             | 61 kB 5.2 MB/s eta 0:00:01\r\u001b[K     |███                             | 71 kB 5.4 MB/s eta 0:00:01\r\u001b[K     |███▌                            | 81 kB 5.3 MB/s eta 0:00:01\r\u001b[K     |████                            | 92 kB 5.9 MB/s eta 0:00:01\r\u001b[K     |████▍                           | 102 kB 5.2 MB/s eta 0:00:01\r\u001b[K     |████▉                           | 112 kB 5.2 MB/s eta 0:00:01\r\u001b[K     |█████▎                          | 122 kB 5.2 MB/s eta 0:00:01\r\u001b[K     |█████▊                          | 133 kB 5.2 MB/s eta 0:00:01\r\u001b[K     |██████▏                         | 143 kB 5.2 MB/s eta 0:00:01\r\u001b[K     |██████▋                         | 153 kB 5.2 MB/s eta 0:00:01\r\u001b[K     |███████                         | 163 kB 5.2 MB/s eta 0:00:01\r\u001b[K     |███████▌                        | 174 kB 5.2 MB/s eta 0:00:01\r\u001b[K     |████████                        | 184 kB 5.2 MB/s eta 0:00:01\r\u001b[K     |████████▍                       | 194 kB 5.2 MB/s eta 0:00:01\r\u001b[K     |████████▉                       | 204 kB 5.2 MB/s eta 0:00:01\r\u001b[K     |█████████▎                      | 215 kB 5.2 MB/s eta 0:00:01\r\u001b[K     |█████████▊                      | 225 kB 5.2 MB/s eta 0:00:01\r\u001b[K     |██████████▏                     | 235 kB 5.2 MB/s eta 0:00:01\r\u001b[K     |██████████▌                     | 245 kB 5.2 MB/s eta 0:00:01\r\u001b[K     |███████████                     | 256 kB 5.2 MB/s eta 0:00:01\r\u001b[K     |███████████▍                    | 266 kB 5.2 MB/s eta 0:00:01\r\u001b[K     |███████████▉                    | 276 kB 5.2 MB/s eta 0:00:01\r\u001b[K     |████████████▎                   | 286 kB 5.2 MB/s eta 0:00:01\r\u001b[K     |████████████▊                   | 296 kB 5.2 MB/s eta 0:00:01\r\u001b[K     |█████████████▏                  | 307 kB 5.2 MB/s eta 0:00:01\r\u001b[K     |█████████████▋                  | 317 kB 5.2 MB/s eta 0:00:01\r\u001b[K     |██████████████                  | 327 kB 5.2 MB/s eta 0:00:01\r\u001b[K     |██████████████▌                 | 337 kB 5.2 MB/s eta 0:00:01\r\u001b[K     |███████████████                 | 348 kB 5.2 MB/s eta 0:00:01\r\u001b[K     |███████████████▍                | 358 kB 5.2 MB/s eta 0:00:01\r\u001b[K     |███████████████▉                | 368 kB 5.2 MB/s eta 0:00:01\r\u001b[K     |████████████████▎               | 378 kB 5.2 MB/s eta 0:00:01\r\u001b[K     |████████████████▊               | 389 kB 5.2 MB/s eta 0:00:01\r\u001b[K     |█████████████████▏              | 399 kB 5.2 MB/s eta 0:00:01\r\u001b[K     |█████████████████▋              | 409 kB 5.2 MB/s eta 0:00:01\r\u001b[K     |██████████████████              | 419 kB 5.2 MB/s eta 0:00:01\r\u001b[K     |██████████████████▌             | 430 kB 5.2 MB/s eta 0:00:01\r\u001b[K     |███████████████████             | 440 kB 5.2 MB/s eta 0:00:01\r\u001b[K     |███████████████████▍            | 450 kB 5.2 MB/s eta 0:00:01\r\u001b[K     |███████████████████▉            | 460 kB 5.2 MB/s eta 0:00:01\r\u001b[K     |████████████████████▎           | 471 kB 5.2 MB/s eta 0:00:01\r\u001b[K     |████████████████████▋           | 481 kB 5.2 MB/s eta 0:00:01\r\u001b[K     |█████████████████████           | 491 kB 5.2 MB/s eta 0:00:01\r\u001b[K     |█████████████████████▌          | 501 kB 5.2 MB/s eta 0:00:01\r\u001b[K     |██████████████████████          | 512 kB 5.2 MB/s eta 0:00:01\r\u001b[K     |██████████████████████▍         | 522 kB 5.2 MB/s eta 0:00:01\r\u001b[K     |██████████████████████▉         | 532 kB 5.2 MB/s eta 0:00:01\r\u001b[K     |███████████████████████▎        | 542 kB 5.2 MB/s eta 0:00:01\r\u001b[K     |███████████████████████▊        | 552 kB 5.2 MB/s eta 0:00:01\r\u001b[K     |████████████████████████▏       | 563 kB 5.2 MB/s eta 0:00:01\r\u001b[K     |████████████████████████▋       | 573 kB 5.2 MB/s eta 0:00:01\r\u001b[K     |█████████████████████████       | 583 kB 5.2 MB/s eta 0:00:01\r\u001b[K     |█████████████████████████▌      | 593 kB 5.2 MB/s eta 0:00:01\r\u001b[K     |██████████████████████████      | 604 kB 5.2 MB/s eta 0:00:01\r\u001b[K     |██████████████████████████▍     | 614 kB 5.2 MB/s eta 0:00:01\r\u001b[K     |██████████████████████████▉     | 624 kB 5.2 MB/s eta 0:00:01\r\u001b[K     |███████████████████████████▎    | 634 kB 5.2 MB/s eta 0:00:01\r\u001b[K     |███████████████████████████▊    | 645 kB 5.2 MB/s eta 0:00:01\r\u001b[K     |████████████████████████████▏   | 655 kB 5.2 MB/s eta 0:00:01\r\u001b[K     |████████████████████████████▋   | 665 kB 5.2 MB/s eta 0:00:01\r\u001b[K     |█████████████████████████████   | 675 kB 5.2 MB/s eta 0:00:01\r\u001b[K     |█████████████████████████████▌  | 686 kB 5.2 MB/s eta 0:00:01\r\u001b[K     |██████████████████████████████  | 696 kB 5.2 MB/s eta 0:00:01\r\u001b[K     |██████████████████████████████▍ | 706 kB 5.2 MB/s eta 0:00:01\r\u001b[K     |██████████████████████████████▊ | 716 kB 5.2 MB/s eta 0:00:01\r\u001b[K     |███████████████████████████████▏| 727 kB 5.2 MB/s eta 0:00:01\r\u001b[K     |███████████████████████████████▋| 737 kB 5.2 MB/s eta 0:00:01\r\u001b[K     |████████████████████████████████| 745 kB 5.2 MB/s \n",
            "\u001b[?25hRequirement already satisfied: PyYAML in /usr/local/lib/python3.7/dist-packages (from pyngrok) (3.13)\n",
            "Building wheels for collected packages: pyngrok\n",
            "  Building wheel for pyngrok (setup.py) ... \u001b[?25l\u001b[?25hdone\n",
            "  Created wheel for pyngrok: filename=pyngrok-5.1.0-py3-none-any.whl size=19007 sha256=44bcf88fb2c5f8a2ed0f60b2f7a7d8cbe3aa7faa63bbf7164c859c61d84c1556\n",
            "  Stored in directory: /root/.cache/pip/wheels/bf/e6/af/ccf6598ecefecd44104069371795cb9b3afbcd16987f6ccfb3\n",
            "Successfully built pyngrok\n",
            "Installing collected packages: pyngrok\n",
            "Successfully installed pyngrok-5.1.0\n"
          ]
        }
      ]
    },
    {
      "cell_type": "code",
      "source": [
        "from fastapi import FastAPI, Request\n",
        "from fastapi.responses import HTMLResponse\n",
        "from pyngrok import ngrok\n",
        "import nest_asyncio\n",
        "from typing import Optional, List\n",
        "import uvicorn\n",
        "from fastapi import File, UploadFile\n",
        "import os\n",
        "import numpy as np\n",
        "\n",
        "import urllib.request\n",
        "import requests\n",
        "import json\n",
        "\n",
        "\n",
        "app = FastAPI()\n",
        "\n",
        "\n",
        "\n",
        "@app.get('/')\n",
        "def read_root():\n",
        "  return {'hello':'world'}\n",
        "\n",
        "\n",
        "class ClovaSpeechClient:\n",
        "  # Clova Speech invoke URL\n",
        "  invoke_url = 'https://clovaspeech-gw.ncloud.com/external/v1/2389/135ddb361331ff2821f583d720d636d5e9fc782ab76ece949d5ab49b83e39c85'\n",
        "  # Clova Speech secret key\n",
        "  secret = 'KdUtICuxadSxcSYRrM2EBHjIyC5mJMsnNtDsxFlE'\n",
        "\n",
        "  def req_upload(self, file, completion, callback=None, userdata=None, forbiddens=None, boostings=None,\n",
        "                  wordAlignment=True, fullText=True, diarization=None):\n",
        "      request_body = {\n",
        "          'language': 'enko',\n",
        "          'completion': completion,\n",
        "          'callback': callback,\n",
        "          'userdata': userdata,\n",
        "          'wordAlignment': wordAlignment,\n",
        "          'fullText': fullText,\n",
        "          'forbiddens': forbiddens,\n",
        "          'boostings': boostings,\n",
        "          'diarization': diarization,\n",
        "      }\n",
        "      headers = {\n",
        "          'Accept': 'application/json;UTF-8',\n",
        "          'X-CLOVASPEECH-API-KEY': self.secret\n",
        "      }\n",
        "      print(json.dumps(request_body, ensure_ascii=False).encode('UTF-8'))\n",
        "      files = {\n",
        "          'media': open(file, 'rb'),\n",
        "          'params': (None, json.dumps(request_body, ensure_ascii=False).encode('UTF-8'), 'application/json')\n",
        "      }\n",
        "      response = requests.post(headers=headers, url=self.invoke_url + '/recognizer/upload', files=files)\n",
        "      return response\n",
        "\n",
        "@app.post('/speech/text')\n",
        "async def speech_text(files: List[UploadFile] = File(...)):\n",
        "  for file in files:\n",
        "    contents = await file.read()\n",
        "    with open(os.path.join('/content/',file.filename), 'wb') as fp:\n",
        "      fp.write(contents)\n",
        "    if __name__ == '__main__':\n",
        "    # res = ClovaSpeechClient().req_url(url='https://www.youtube.com/watch?v=035BEi1zXiY', completion='sync')\n",
        "    # res = ClovaSpeechClient().req_object_storage(data_key='data/media.mp3', completion='sync')\n",
        "      res = ClovaSpeechClient().req_upload(file=(os.path.join('/content/' + file.filename)), completion='sync')\n",
        "      # res = ClovaSpeechClient().req_upload(file='data/media.mp3', completion='sync')\n",
        "\n",
        "    result = res.json()['text']\n",
        "\n",
        "    # translation\n",
        "    client_id = \"b13psmxh1d\"\n",
        "    client_secret = \"KdUtICuxadSxcSYRrM2EBHjIyC5mJMsnNtDsxFlE\"\n",
        "    encText = urllib.parse.quote(result)\n",
        "    data = \"source=en&target=ko&honorific=True&text=\" + encText  # 영어 한국어 설정\n",
        "    url = \"https://naveropenapi.apigw.ntruss.com/nmt/v1/translation\"\n",
        "    request = urllib.request.Request(url)\n",
        "    request.add_header(\"X-NCP-APIGW-API-KEY-ID\",client_id)\n",
        "    request.add_header(\"X-NCP-APIGW-API-KEY\",client_secret)\n",
        "    response = urllib.request.urlopen(request, data=data.encode(\"utf-8\"))\n",
        "    rescode = response.getcode()\n",
        "    if(rescode==200):\n",
        "        response_body = response.read()\n",
        "        print(response_body.decode('utf-8'))\n",
        "    else:\n",
        "        print(\"Error Code:\" + rescode)\n",
        "        \n",
        "\n",
        "    mas = response_body.decode('utf-8')\n",
        "    translation = mas.split('\"')[-2]\n",
        "\n",
        "    # voice\n",
        "    encText = urllib.parse.quote(translation)\n",
        "    data = \"speaker=nara&volume=0&speed=0&pitch=0&format=mp3&text=\" + encText;\n",
        "    url = \"https://naveropenapi.apigw.ntruss.com/tts-premium/v1/tts\"\n",
        "    request = urllib.request.Request(url)\n",
        "    request.add_header(\"X-NCP-APIGW-API-KEY-ID\",client_id)\n",
        "    request.add_header(\"X-NCP-APIGW-API-KEY\",client_secret)\n",
        "    response = urllib.request.urlopen(request, data=data.encode('utf-8'))\n",
        "    rescode = response.getcode()\n",
        "    if(rescode==200):\n",
        "        # print(\"TTS mp3 저장\")\n",
        "        response_body = response.read()\n",
        "        with open('./(%s)voice.mp3'% file.filename, 'wb') as f:\n",
        "            f.write(response_body)\n",
        "    else:\n",
        "        print(\"Error Code:\" + rescode)\n",
        "  \n",
        "  return HTMLResponse(content=F\"<h1>{'저장완료'}\", status_code=200)\n",
        "\n",
        "ngrok_tunnel = ngrok.connect(8000)\n",
        "print('Public URL:' , ngrok_tunnel.public_url)\n",
        "nest_asyncio.apply()\n",
        "uvicorn.run(app, host='0.0.0.0', port=8000)"
      ],
      "metadata": {
        "colab": {
          "base_uri": "https://localhost:8080/"
        },
        "id": "lMSwoZWZpRT5",
        "outputId": "edcbbd31-8654-4cf8-9efc-8b627555b963"
      },
      "execution_count": 26,
      "outputs": [
        {
          "output_type": "stream",
          "name": "stdout",
          "text": [
            "Public URL: http://f31f-35-237-195-1.ngrok.io\n"
          ]
        },
        {
          "output_type": "stream",
          "name": "stderr",
          "text": [
            "INFO:     Started server process [59]\n",
            "INFO:     Waiting for application startup.\n",
            "INFO:     Application startup complete.\n",
            "INFO:     Uvicorn running on http://0.0.0.0:8000 (Press CTRL+C to quit)\n",
            "INFO:     Shutting down\n",
            "INFO:     Waiting for application shutdown.\n",
            "INFO:     Application shutdown complete.\n",
            "INFO:     Finished server process [59]\n"
          ]
        }
      ]
    },
    {
      "cell_type": "code",
      "source": [
        "!ngrok authtoken 26PXxhhXNfcMTG7wcAUGx5qr0rn_2xQ3qGzbtjR7BDpmEFqT3"
      ],
      "metadata": {
        "colab": {
          "base_uri": "https://localhost:8080/"
        },
        "id": "pFxFy8NTqrhd",
        "outputId": "13af2522-ffce-49e1-a960-852a3a2491a1"
      },
      "execution_count": 24,
      "outputs": [
        {
          "output_type": "stream",
          "name": "stdout",
          "text": [
            "Authtoken saved to configuration file: /root/.ngrok2/ngrok.yml\n"
          ]
        }
      ]
    },
    {
      "cell_type": "code",
      "source": [
        "pip install python-multipart"
      ],
      "metadata": {
        "colab": {
          "base_uri": "https://localhost:8080/"
        },
        "id": "zIRh2n0Nqd9s",
        "outputId": "f2f66255-9e3b-4c36-e2e1-8d77480246ab"
      },
      "execution_count": 21,
      "outputs": [
        {
          "output_type": "stream",
          "name": "stdout",
          "text": [
            "Collecting python-multipart\n",
            "  Downloading python-multipart-0.0.5.tar.gz (32 kB)\n",
            "Requirement already satisfied: six>=1.4.0 in /usr/local/lib/python3.7/dist-packages (from python-multipart) (1.15.0)\n",
            "Building wheels for collected packages: python-multipart\n",
            "  Building wheel for python-multipart (setup.py) ... \u001b[?25l\u001b[?25hdone\n",
            "  Created wheel for python-multipart: filename=python_multipart-0.0.5-py3-none-any.whl size=31678 sha256=22af97527ed19d38e522faa1b75fb44cd8c823c25629de5246674b87e7cafb9d\n",
            "  Stored in directory: /root/.cache/pip/wheels/2c/41/7c/bfd1c180534ffdcc0972f78c5758f89881602175d48a8bcd2c\n",
            "Successfully built python-multipart\n",
            "Installing collected packages: python-multipart\n",
            "Successfully installed python-multipart-0.0.5\n"
          ]
        }
      ]
    }
  ]
}