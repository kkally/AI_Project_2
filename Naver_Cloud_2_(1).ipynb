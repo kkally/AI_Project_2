{
  "nbformat": 4,
  "nbformat_minor": 0,
  "metadata": {
    "colab": {
      "name": "Naver_Cloud_2 (1).ipynb",
      "provenance": [],
      "collapsed_sections": []
    },
    "kernelspec": {
      "name": "python3",
      "display_name": "Python 3"
    },
    "language_info": {
      "name": "python"
    }
  },
  "cells": [
    {
      "cell_type": "markdown",
      "source": [
        "# CLOVA Speech Recognition(CSR)"
      ],
      "metadata": {
        "id": "LBsonnVABPJh"
      }
    },
    {
      "cell_type": "code",
      "execution_count": null,
      "metadata": {
        "colab": {
          "base_uri": "https://localhost:8080/"
        },
        "id": "Phr3us3-5dKz",
        "outputId": "eac44923-581b-4a60-8ca9-5930eff34ad3"
      },
      "outputs": [
        {
          "output_type": "stream",
          "name": "stdout",
          "text": [
            "{\"text\":\"남불 추 로켓트 피규어 멋진 남 불치의 뉴텝스 프 에이 리아나 데이터 인수 노조와 갱 미 락 이즈 백 래쉬 바순 재 소개팅녀와 스페인 리 비브라스 다한증엔 라인 하드 폴딩 게이트이니까 wants the next page\"}\n"
          ]
        }
      ],
      "source": [
        "import sys\n",
        "import requests\n",
        "client_id = \"YOUR_CLIENT_ID\"\n",
        "client_secret = \"YOUR_CLIENT_SECRET\"\n",
        "lang = \"Kor\" # 언어 코드 ( Kor, Jpn, Eng, Chn )\n",
        "url = \"https://naveropenapi.apigw.ntruss.com/recog/v1/stt?lang=\" + lang\n",
        "data = open('/content/FT-02.mp3', 'rb')\n",
        "headers = {\n",
        "    \"X-NCP-APIGW-API-KEY-ID\": 'is0x54abfw',\n",
        "    \"X-NCP-APIGW-API-KEY\": 'zBj1LcxbrsNwc4nJdaB1jwLEtM3GEV0aPD5kL6FT',\n",
        "    \"Content-Type\": \"application/octet-stream\"\n",
        "}\n",
        "response = requests.post(url,  data=data, headers=headers)\n",
        "rescode = response.status_code\n",
        "if(rescode == 200):\n",
        "    print (response.text)\n",
        "else:\n",
        "    print(\"Error : \" + response.text)"
      ]
    },
    {
      "cell_type": "markdown",
      "source": [
        "# CLOVA Speech"
      ],
      "metadata": {
        "id": "NBM-JnmBBPsL"
      }
    },
    {
      "cell_type": "code",
      "source": [
        "import requests\n",
        "import json\n",
        "\n",
        "\n",
        "class ClovaSpeechClient:\n",
        "    # Clova Speech invoke URL\n",
        "    invoke_url = 'https://clovaspeech-gw.ncloud.com/external/v1/2389/135ddb361331ff2821f583d720d636d5e9fc782ab76ece949d5ab49b83e39c85'\n",
        "    # Clova Speech secret key\n",
        "    secret = '523aadbce32e48d499728ffa3e9389a3'\n",
        "\n",
        "    def req_url(self, url, completion, callback=None, userdata=None, forbiddens=None, boostings=None, wordAlignment=True, fullText=True, diarization=None):\n",
        "        request_body = {\n",
        "            'url': url,\n",
        "            'language': 'enko',\n",
        "            'completion': completion,\n",
        "            'callback': callback,\n",
        "            'userdata': userdata,\n",
        "            'wordAlignment': wordAlignment,\n",
        "            'fullText': fullText,\n",
        "            'forbiddens': forbiddens,\n",
        "            'boostings': boostings,\n",
        "            'diarization': diarization,\n",
        "        }\n",
        "        headers = {\n",
        "            'Accept': 'application/json;UTF-8',\n",
        "            'Content-Type': 'application/json;UTF-8',\n",
        "            'X-CLOVASPEECH-API-KEY': self.secret\n",
        "        }\n",
        "        return requests.post(headers=headers,\n",
        "                             url=self.invoke_url + '/recognizer/url',\n",
        "                             data=json.dumps(request_body).encode('UTF-8'))\n",
        "\n",
        "    def req_object_storage(self, data_key, completion, callback=None, userdata=None, forbiddens=None, boostings=None,\n",
        "                           wordAlignment=True, fullText=True, diarization=None):\n",
        "        request_body = {\n",
        "            'dataKey': data_key,\n",
        "            'language': 'enko',\n",
        "            'completion': completion,\n",
        "            'callback': callback,\n",
        "            'userdata': userdata,\n",
        "            'wordAlignment': wordAlignment,\n",
        "            'fullText': fullText,\n",
        "            'forbiddens': forbiddens,\n",
        "            'boostings': boostings,\n",
        "            'diarization': diarization,\n",
        "        }\n",
        "        headers = {\n",
        "            'Accept': 'application/json;UTF-8',\n",
        "            'Content-Type': 'application/json;UTF-8',\n",
        "            'X-CLOVASPEECH-API-KEY': self.secret\n",
        "        }\n",
        "        return requests.post(headers=headers,\n",
        "                             url=self.invoke_url + '/recognizer/object-storage',\n",
        "                             data=json.dumps(request_body).encode('UTF-8'))\n",
        "\n",
        "    def req_upload(self, file, completion, callback=None, userdata=None, forbiddens=None, boostings=None,\n",
        "                   wordAlignment=True, fullText=True, diarization=None):\n",
        "        request_body = {\n",
        "            'language': 'enko',\n",
        "            'completion': completion,\n",
        "            'callback': callback,\n",
        "            'userdata': userdata,\n",
        "            'wordAlignment': wordAlignment,\n",
        "            'fullText': fullText,\n",
        "            'forbiddens': forbiddens,\n",
        "            'boostings': boostings,\n",
        "            'diarization': diarization,\n",
        "        }\n",
        "        headers = {\n",
        "            'Accept': 'application/json;UTF-8',\n",
        "            'X-CLOVASPEECH-API-KEY': self.secret\n",
        "        }\n",
        "        print(json.dumps(request_body, ensure_ascii=False).encode('UTF-8'))\n",
        "        files = {\n",
        "            'media': open(file, 'rb'),\n",
        "            'params': (None, json.dumps(request_body, ensure_ascii=False).encode('UTF-8'), 'application/json')\n",
        "        }\n",
        "        response = requests.post(headers=headers, url=self.invoke_url + '/recognizer/upload', files=files)\n",
        "        return response\n",
        "\n",
        "if __name__ == '__main__':\n",
        "    # res = ClovaSpeechClient().req_url(url='http://example.com/media.mp3', completion='sync')\n",
        "    # res = ClovaSpeechClient().req_object_storage(data_key='data/media.mp3', completion='sync')\n",
        "    res = ClovaSpeechClient().req_upload(file='/content/bts.mp4', completion='sync')\n",
        "    print(res.text)\n",
        "#result = res.json()['text']\n",
        "#print(result)"
      ],
      "metadata": {
        "colab": {
          "base_uri": "https://localhost:8080/"
        },
        "id": "a78qohZJ5wwh",
        "outputId": "b6117ec9-ab7e-495a-ef78-05867a9be7b1"
      },
      "execution_count": null,
      "outputs": [
        {
          "output_type": "stream",
          "name": "stdout",
          "text": [
            "b'{\"language\": \"enko\", \"completion\": \"sync\", \"callback\": null, \"userdata\": null, \"wordAlignment\": true, \"fullText\": true, \"forbiddens\": null, \"boostings\": null, \"diarization\": null}'\n",
            "{\"result\":\"FAILED\",\"message\":\"대상 파일 가져오기 실패했습니다. 파일 경로와 파일 포맷을 확인해 주세요.\",\"token\":\"1a46e11663004a9b9498e33d45f82c3e\"}\n"
          ]
        }
      ]
    },
    {
      "cell_type": "code",
      "source": [
        "result"
      ],
      "metadata": {
        "id": "yvtrB6bjBvAp",
        "colab": {
          "base_uri": "https://localhost:8080/",
          "height": 54
        },
        "outputId": "af2ed15a-c528-4e80-be80-7263a354714a"
      },
      "execution_count": null,
      "outputs": [
        {
          "output_type": "execute_result",
          "data": {
            "text/plain": [
              "'look at the picture marched number three in your test book a the lids on the containers are closed be the garbage bins are being emptied see containers are stacked on the ground de containers have been placed in front of a fence'"
            ],
            "application/vnd.google.colaboratory.intrinsic+json": {
              "type": "string"
            }
          },
          "metadata": {},
          "execution_count": 8
        }
      ]
    },
    {
      "cell_type": "markdown",
      "source": [
        "# Papago Text Translation"
      ],
      "metadata": {
        "id": "dlow_G35IqQk"
      }
    },
    {
      "cell_type": "code",
      "source": [
        "# // 네이버 Papago Text Translation API 예제\n",
        "import os\n",
        "import sys\n",
        "import urllib.request\n",
        "client_id = \"is0x54abfw\"\n",
        "client_secret = \"zBj1LcxbrsNwc4nJdaB1jwLEtM3GEV0aPD5kL6FT\"\n",
        "encText = urllib.parse.quote(result)\n",
        "data = \"source=en&target=ko&honorific=True&text=\" + encText  # 영어 한국어 설정\n",
        "url = \"https://naveropenapi.apigw.ntruss.com/nmt/v1/translation\"\n",
        "request = urllib.request.Request(url)\n",
        "request.add_header(\"X-NCP-APIGW-API-KEY-ID\",client_id)\n",
        "request.add_header(\"X-NCP-APIGW-API-KEY\",client_secret)\n",
        "response = urllib.request.urlopen(request, data=data.encode(\"utf-8\"))\n",
        "rescode = response.getcode()\n",
        "if(rescode==200):\n",
        "    response_body = response.read()\n",
        "    print(response_body.decode('utf-8'))\n",
        "else:\n",
        "    print(\"Error Code:\" + rescode)"
      ],
      "metadata": {
        "colab": {
          "base_uri": "https://localhost:8080/"
        },
        "id": "iGi0PZixIp88",
        "outputId": "0236b165-d562-4c39-be62-6b2077ad1e51"
      },
      "execution_count": null,
      "outputs": [
        {
          "output_type": "stream",
          "name": "stdout",
          "text": [
            "{\"message\":{\"@type\":\"response\",\"@service\":\"naverservice.nmt.proxy\",\"@version\":\"1.0.0\",\"result\":{\"srcLangType\":\"en\",\"tarLangType\":\"ko\",\"translatedText\":\"테스트북의 3번으로 표시된 그림을 보세요. 용기의 뚜껑이 닫혀 있습니다. 쓰레기통이 비워지고 있습니다. 용기는 땅 위에 쌓여 있습니다. 용기는 울타리 앞에 놓여 있습니다.\"}}}\n"
          ]
        }
      ]
    },
    {
      "cell_type": "code",
      "source": [
        "mas = response_body.decode('utf-8')\n",
        "translation = mas.split('\"')[-2]"
      ],
      "metadata": {
        "id": "v1xqEKTwK7wm"
      },
      "execution_count": null,
      "outputs": []
    },
    {
      "cell_type": "markdown",
      "source": [
        "# CLOVA Voice"
      ],
      "metadata": {
        "id": "C0nWo2hPK0od"
      }
    },
    {
      "cell_type": "code",
      "source": [
        "# // 네이버 음성합성 Open API 예제\n",
        "import os\n",
        "import sys\n",
        "import urllib.request\n",
        "client_id = \"is0x54abfw\"\n",
        "client_secret = \"zBj1LcxbrsNwc4nJdaB1jwLEtM3GEV0aPD5kL6FT\"\n",
        "encText = urllib.parse.quote(translation)\n",
        "data = \"speaker=nara&volume=0&speed=0&pitch=0&format=mp3&text=\" + encText;\n",
        "url = \"https://naveropenapi.apigw.ntruss.com/tts-premium/v1/tts\"\n",
        "request = urllib.request.Request(url)\n",
        "request.add_header(\"X-NCP-APIGW-API-KEY-ID\",client_id)\n",
        "request.add_header(\"X-NCP-APIGW-API-KEY\",client_secret)\n",
        "response = urllib.request.urlopen(request, data=data.encode('utf-8'))\n",
        "rescode = response.getcode()\n",
        "if(rescode==200):\n",
        "    print(\"TTS mp3 저장\")\n",
        "    response_body = response.read()\n",
        "    with open('voice.mp3', 'wb') as f:\n",
        "        f.write(response_body)\n",
        "else:\n",
        "    print(\"Error Code:\" + rescode)"
      ],
      "metadata": {
        "colab": {
          "base_uri": "https://localhost:8080/"
        },
        "id": "YcWj_wB4G5RD",
        "outputId": "09dc070e-8cea-423a-fd01-3faf31ceabf4"
      },
      "execution_count": null,
      "outputs": [
        {
          "output_type": "stream",
          "name": "stdout",
          "text": [
            "TTS mp3 저장\n"
          ]
        }
      ]
    },
    {
      "cell_type": "code",
      "source": [
        "import os\n",
        "import sys\n",
        "import urllib.request\n",
        "import requests\n",
        "import json\n",
        "\n",
        "\n",
        "class ClovaSpeechClient:\n",
        "    # Clova Speech invoke URL\n",
        "    invoke_url = 'https://clovaspeech-gw.ncloud.com/external/v1/2389/135ddb361331ff2821f583d720d636d5e9fc782ab76ece949d5ab49b83e39c85'\n",
        "    # Clova Speech secret key\n",
        "    secret = '523aadbce32e48d499728ffa3e9389a3'\n",
        "\n",
        "    def req_url(self, url, completion, callback=None, userdata=None, forbiddens=None, boostings=None, wordAlignment=True, fullText=True, diarization=None):\n",
        "        request_body = {\n",
        "            'url': url,\n",
        "            'language': 'enko',\n",
        "            'completion': completion,\n",
        "            'callback': callback,\n",
        "            'userdata': userdata,\n",
        "            'wordAlignment': wordAlignment,\n",
        "            'fullText': fullText,\n",
        "            'forbiddens': forbiddens,\n",
        "            'boostings': boostings,\n",
        "            'diarization': diarization,\n",
        "        }\n",
        "        headers = {\n",
        "            'Accept': 'application/json;UTF-8',\n",
        "            'Content-Type': 'application/json;UTF-8',\n",
        "            'X-CLOVASPEECH-API-KEY': self.secret\n",
        "        }\n",
        "        return requests.post(headers=headers,\n",
        "                             url=self.invoke_url + '/recognizer/url',\n",
        "                             data=json.dumps(request_body).encode('UTF-8'))\n",
        "\n",
        "    def req_object_storage(self, data_key, completion, callback=None, userdata=None, forbiddens=None, boostings=None,\n",
        "                           wordAlignment=True, fullText=True, diarization=None):\n",
        "        request_body = {\n",
        "            'dataKey': data_key,\n",
        "            'language': 'enko',\n",
        "            'completion': completion,\n",
        "            'callback': callback,\n",
        "            'userdata': userdata,\n",
        "            'wordAlignment': wordAlignment,\n",
        "            'fullText': fullText,\n",
        "            'forbiddens': forbiddens,\n",
        "            'boostings': boostings,\n",
        "            'diarization': diarization,\n",
        "        }\n",
        "        headers = {\n",
        "            'Accept': 'application/json;UTF-8',\n",
        "            'Content-Type': 'application/json;UTF-8',\n",
        "            'X-CLOVASPEECH-API-KEY': self.secret\n",
        "        }\n",
        "        return requests.post(headers=headers,\n",
        "                             url=self.invoke_url + '/recognizer/object-storage',\n",
        "                             data=json.dumps(request_body).encode('UTF-8'))\n",
        "\n",
        "    def req_upload(self, file, completion, callback=None, userdata=None, forbiddens=None, boostings=None,\n",
        "                   wordAlignment=True, fullText=True, diarization=None):\n",
        "        request_body = {\n",
        "            'language': 'enko',\n",
        "            'completion': completion,\n",
        "            'callback': callback,\n",
        "            'userdata': userdata,\n",
        "            'wordAlignment': wordAlignment,\n",
        "            'fullText': fullText,\n",
        "            'forbiddens': forbiddens,\n",
        "            'boostings': boostings,\n",
        "            'diarization': diarization,\n",
        "        }\n",
        "        headers = {\n",
        "            'Accept': 'application/json;UTF-8',\n",
        "            'X-CLOVASPEECH-API-KEY': self.secret\n",
        "        }\n",
        "        print(json.dumps(request_body, ensure_ascii=False).encode('UTF-8'))\n",
        "        files = {\n",
        "            'media': open(file, 'rb'),\n",
        "            'params': (None, json.dumps(request_body, ensure_ascii=False).encode('UTF-8'), 'application/json')\n",
        "        }\n",
        "        response = requests.post(headers=headers, url=self.invoke_url + '/recognizer/upload', files=files)\n",
        "        return response\n",
        "\n",
        "if __name__ == '__main__':\n",
        "    # res = ClovaSpeechClient().req_url(url='http://example.com/media.mp3', completion='sync')\n",
        "    # res = ClovaSpeechClient().req_object_storage(data_key='data/media.mp3', completion='sync')\n",
        "    res = ClovaSpeechClient().req_upload(file='/content/bts.mp4', completion='sync')\n",
        "result = res.json()['text']\n",
        "\n",
        "# translation\n",
        "client_id = \"is0x54abfw\"\n",
        "client_secret = \"zBj1LcxbrsNwc4nJdaB1jwLEtM3GEV0aPD5kL6FT\"\n",
        "encText = urllib.parse.quote(result)\n",
        "data = \"source=en&target=ko&honorific=True&text=\" + encText  # 영어 한국어 설정\n",
        "url = \"https://naveropenapi.apigw.ntruss.com/nmt/v1/translation\"\n",
        "request = urllib.request.Request(url)\n",
        "request.add_header(\"X-NCP-APIGW-API-KEY-ID\",client_id)\n",
        "request.add_header(\"X-NCP-APIGW-API-KEY\",client_secret)\n",
        "response = urllib.request.urlopen(request, data=data.encode(\"utf-8\"))\n",
        "rescode = response.getcode()\n",
        "if(rescode==200):\n",
        "    response_body = response.read()\n",
        "    print(response_body.decode('utf-8'))\n",
        "else:\n",
        "    print(\"Error Code:\" + rescode)\n",
        "\n",
        "mas = response_body.decode('utf-8')\n",
        "translation = mas.split('\"')[-2]\n",
        "\n",
        "# voice\n",
        "encText = urllib.parse.quote(translation)\n",
        "data = \"speaker=nara&volume=0&speed=0&pitch=0&format=mp3&text=\" + encText;\n",
        "url = \"https://naveropenapi.apigw.ntruss.com/tts-premium/v1/tts\"\n",
        "request = urllib.request.Request(url)\n",
        "request.add_header(\"X-NCP-APIGW-API-KEY-ID\",client_id)\n",
        "request.add_header(\"X-NCP-APIGW-API-KEY\",client_secret)\n",
        "response = urllib.request.urlopen(request, data=data.encode('utf-8'))\n",
        "rescode = response.getcode()\n",
        "if(rescode==200):\n",
        "    print(\"TTS mp3 저장\")\n",
        "    response_body = response.read()\n",
        "    with open('voice.mp3', 'wb') as f:\n",
        "        f.write(response_body)\n",
        "else:\n",
        "    print(\"Error Code:\" + rescode)"
      ],
      "metadata": {
        "id": "8HE--CZbLCIo"
      },
      "execution_count": null,
      "outputs": []
    },
    {
      "cell_type": "markdown",
      "source": [
        "## FASTAPI로 더빙"
      ],
      "metadata": {
        "id": "Crgl2WdwGDLD"
      }
    },
    {
      "cell_type": "code",
      "source": [
        "from fastapi import FastAPI, Request\n",
        "from fastapi.responses import HTMLResponse\n",
        "from pyngrok import ngrok\n",
        "import nest_asyncio\n",
        "from typing import Optional, List\n",
        "import uvicorn\n",
        "from fastapi import File, UploadFile\n",
        "import os\n",
        "import numpy as np\n",
        "\n",
        "import urllib.request\n",
        "import requests\n",
        "import json\n",
        "\n",
        "\n",
        "app = FastAPI()\n",
        "\n",
        "\n",
        "\n",
        "@app.get('/')\n",
        "def read_root():\n",
        "  return {'hello':'world'}\n",
        "\n",
        "\n",
        "class ClovaSpeechClient:\n",
        "  # Clova Speech invoke URL\n",
        "  invoke_url = 'https://clovaspeech-gw.ncloud.com/external/v1/2389/135ddb361331ff2821f583d720d636d5e9fc782ab76ece949d5ab49b83e39c85'\n",
        "  # Clova Speech secret key\n",
        "  secret = '523aadbce32e48d499728ffa3e9389a3'\n",
        "\n",
        "  def req_upload(self, file, completion, callback=None, userdata=None, forbiddens=None, boostings=None,\n",
        "                  wordAlignment=True, fullText=True, diarization=None):\n",
        "      request_body = {\n",
        "          'language': 'enko',\n",
        "          'completion': completion,\n",
        "          'callback': callback,\n",
        "          'userdata': userdata,\n",
        "          'wordAlignment': wordAlignment,\n",
        "          'fullText': fullText,\n",
        "          'forbiddens': forbiddens,\n",
        "          'boostings': boostings,\n",
        "          'diarization': diarization,\n",
        "      }\n",
        "      headers = {\n",
        "          'Accept': 'application/json;UTF-8',\n",
        "          'X-CLOVASPEECH-API-KEY': self.secret\n",
        "      }\n",
        "      print(json.dumps(request_body, ensure_ascii=False).encode('UTF-8'))\n",
        "      files = {\n",
        "          'media': open(file, 'rb'),\n",
        "          'params': (None, json.dumps(request_body, ensure_ascii=False).encode('UTF-8'), 'application/json')\n",
        "      }\n",
        "      response = requests.post(headers=headers, url=self.invoke_url + '/recognizer/upload', files=files)\n",
        "      return response\n",
        "\n",
        "@app.post('/speech/text')\n",
        "async def speech_text(files: List[UploadFile] = File(...)):\n",
        "  for file in files:\n",
        "    contents = await file.read()\n",
        "    with open(os.path.join('/content/',file.filename), 'wb') as fp:\n",
        "      fp.write(contents)\n",
        "    if __name__ == '__main__':\n",
        "    # res = ClovaSpeechClient().req_url(url='https://www.youtube.com/watch?v=035BEi1zXiY', completion='sync')\n",
        "    # res = ClovaSpeechClient().req_object_storage(data_key='data/media.mp3', completion='sync')\n",
        "      res = ClovaSpeechClient().req_upload(file=(os.path.join('/content/' + file.filename)), completion='sync')\n",
        "      # res = ClovaSpeechClient().req_upload(file='data/media.mp3', completion='sync')\n",
        "\n",
        "    result = res.json()['text']\n",
        "\n",
        "    # translation\n",
        "    client_id = \"is0x54abfw\"\n",
        "    client_secret = \"zBj1LcxbrsNwc4nJdaB1jwLEtM3GEV0aPD5kL6FT\"\n",
        "    encText = urllib.parse.quote(result)\n",
        "    data = \"source=en&target=ko&honorific=True&text=\" + encText  # 영어 한국어 설정\n",
        "    url = \"https://naveropenapi.apigw.ntruss.com/nmt/v1/translation\"\n",
        "    request = urllib.request.Request(url)\n",
        "    request.add_header(\"X-NCP-APIGW-API-KEY-ID\",client_id)\n",
        "    request.add_header(\"X-NCP-APIGW-API-KEY\",client_secret)\n",
        "    response = urllib.request.urlopen(request, data=data.encode(\"utf-8\"))\n",
        "    rescode = response.getcode()\n",
        "    if(rescode==200):\n",
        "        response_body = response.read()\n",
        "        print(response_body.decode('utf-8'))\n",
        "    else:\n",
        "        print(\"Error Code:\" + rescode)\n",
        "        \n",
        "\n",
        "    mas = response_body.decode('utf-8')\n",
        "    translation = mas.split('\"')[-2]\n",
        "\n",
        "    # voice\n",
        "    encText = urllib.parse.quote(translation)\n",
        "    data = \"speaker=nara&volume=0&speed=0&pitch=0&format=mp3&text=\" + encText;\n",
        "    url = \"https://naveropenapi.apigw.ntruss.com/tts-premium/v1/tts\"\n",
        "    request = urllib.request.Request(url)\n",
        "    request.add_header(\"X-NCP-APIGW-API-KEY-ID\",client_id)\n",
        "    request.add_header(\"X-NCP-APIGW-API-KEY\",client_secret)\n",
        "    response = urllib.request.urlopen(request, data=data.encode('utf-8'))\n",
        "    rescode = response.getcode()\n",
        "    if(rescode==200):\n",
        "        # print(\"TTS mp3 저장\")\n",
        "        response_body = response.read()\n",
        "        with open('./(%s)voice.mp3'% file.filename, 'wb') as f:\n",
        "            f.write(response_body)\n",
        "    else:\n",
        "        print(\"Error Code:\" + rescode)\n",
        "  \n",
        "  return HTMLResponse(content=F\"<h1>{'저장완료'}\", status_code=200)\n",
        "\n",
        "ngrok_tunnel = ngrok.connect(8000)\n",
        "print('Public URL:' , ngrok_tunnel.public_url)\n",
        "nest_asyncio.apply()\n",
        "uvicorn.run(app, host='0.0.0.0', port=8000)"
      ],
      "metadata": {
        "id": "KUzqrWwIFIqk"
      },
      "execution_count": null,
      "outputs": []
    }
  ]
}