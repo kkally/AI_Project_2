{
  "nbformat": 4,
  "nbformat_minor": 0,
  "metadata": {
    "colab": {
      "name": "Naver_cloud_22_03_22",
      "provenance": [],
      "collapsed_sections": []
    },
    "kernelspec": {
      "name": "python3",
      "display_name": "Python 3"
    },
    "language_info": {
      "name": "python"
    }
  },
  "cells": [
    {
      "cell_type": "markdown",
      "source": [
        "# CLOVA Speech Recognition(CSR)"
      ],
      "metadata": {
        "id": "LBsonnVABPJh"
      }
    },
    {
      "cell_type": "code",
      "execution_count": null,
      "metadata": {
        "colab": {
          "base_uri": "https://localhost:8080/"
        },
        "id": "Phr3us3-5dKz",
        "outputId": "c33ae115-07fc-4785-d982-16303aed1430"
      },
      "outputs": [
        {
          "output_type": "stream",
          "name": "stdout",
          "text": [
            "Error : {\"errorMessage\":\"Invalid Language\",\"errorCode\":\"STT005\"}\n"
          ]
        }
      ],
      "source": [
        "import sys\n",
        "import requests\n",
        "client_id = \"YOUR_CLIENT_ID\"\n",
        "client_secret = \"YOUR_CLIENT_SECRET\"\n",
        "lang = \"enko\" # 언어 코드 ( Kor, Jpn, Eng, Chn )\n",
        "url = \"https://naveropenapi.apigw.ntruss.com/recog/v1/stt?lang=\" + lang\n",
        "data = open('/content/FT-03.mp3', 'rb')\n",
        "headers = {\n",
        "    \"X-NCP-APIGW-API-KEY-ID\": 'is0x54abfw',\n",
        "    \"X-NCP-APIGW-API-KEY\": 'zBj1LcxbrsNwc4nJdaB1jwLEtM3GEV0aPD5kL6FT',\n",
        "    \"Content-Type\": \"application/octet-stream\"\n",
        "}\n",
        "response = requests.post(url,  data=data, headers=headers)\n",
        "rescode = response.status_code\n",
        "if(rescode == 200):\n",
        "    print (response.text)\n",
        "else:\n",
        "    print(\"Error : \" + response.text)"
      ]
    },
    {
      "cell_type": "code",
      "source": [
        "a = res.json()['text']\n",
        "a"
      ],
      "metadata": {
        "colab": {
          "base_uri": "https://localhost:8080/",
          "height": 54
        },
        "id": "gZF4Tj8JB06f",
        "outputId": "e1d53fc4-d245-4761-8c42-42f579530a46"
      },
      "execution_count": null,
      "outputs": [
        {
          "output_type": "execute_result",
          "data": {
            "text/plain": [
              "'number two look at the picture marked number two in your test book a. the elevator is not working. luggage is being loaded c passengers are getting off a plane d. people are standing in line at the boarding gate. go on to the next page.'"
            ],
            "application/vnd.google.colaboratory.intrinsic+json": {
              "type": "string"
            }
          },
          "metadata": {},
          "execution_count": 27
        }
      ]
    },
    {
      "cell_type": "markdown",
      "source": [
        "# CLOVA Speech"
      ],
      "metadata": {
        "id": "NBM-JnmBBPsL"
      }
    },
    {
      "cell_type": "code",
      "source": [
        "import requests\n",
        "import json\n",
        "\n",
        "\n",
        "class ClovaSpeechClient:\n",
        "    # Clova Speech invoke URL\n",
        "    invoke_url = 'https://clovaspeech-gw.ncloud.com/external/v1/2389/135ddb361331ff2821f583d720d636d5e9fc782ab76ece949d5ab49b83e39c85'\n",
        "    # Clova Speech secret key\n",
        "    secret = '523aadbce32e48d499728ffa3e9389a3'\n",
        "\n",
        "    def req_url(self, url, completion, callback=None, userdata=None, forbiddens=None, boostings=None, wordAlignment=True, fullText=True, diarization=None):\n",
        "        request_body = {\n",
        "            'url': url,\n",
        "            'language': 'en-US',\n",
        "            'completion': completion,\n",
        "            'callback': callback,\n",
        "            'userdata': userdata,\n",
        "            'wordAlignment': wordAlignment,\n",
        "            'fullText': fullText,\n",
        "            'forbiddens': forbiddens,\n",
        "            'boostings': boostings,\n",
        "            'diarization': diarization,\n",
        "        }\n",
        "        headers = {\n",
        "            'Accept': 'application/json;UTF-8',\n",
        "            'Content-Type': 'application/json;UTF-8',\n",
        "            'X-CLOVASPEECH-API-KEY': self.secret\n",
        "        }\n",
        "        return requests.post(headers=headers,\n",
        "                             url=self.invoke_url + '/recognizer/url',\n",
        "                             data=json.dumps(request_body).encode('UTF-8'))\n",
        "\n",
        "    def req_object_storage(self, data_key, completion, callback=None, userdata=None, forbiddens=None, boostings=None,\n",
        "                           wordAlignment=True, fullText=True, diarization=None):\n",
        "        request_body = {\n",
        "            'dataKey': data_key,\n",
        "            'language': 'en-US',\n",
        "            'completion': completion,\n",
        "            'callback': callback,\n",
        "            'userdata': userdata,\n",
        "            'wordAlignment': wordAlignment,\n",
        "            'fullText': fullText,\n",
        "            'forbiddens': forbiddens,\n",
        "            'boostings': boostings,\n",
        "            'diarization': diarization,\n",
        "        }\n",
        "        headers = {\n",
        "            'Accept': 'application/json;UTF-8',\n",
        "            'Content-Type': 'application/json;UTF-8',\n",
        "            'X-CLOVASPEECH-API-KEY': self.secret\n",
        "        }\n",
        "        return requests.post(headers=headers,\n",
        "                             url=self.invoke_url + '/recognizer/object-storage',\n",
        "                             data=json.dumps(request_body).encode('UTF-8'))\n",
        "\n",
        "    def req_upload(self, file, completion, callback=None, userdata=None, forbiddens=None, boostings=None,\n",
        "                   wordAlignment=True, fullText=True, diarization=None):\n",
        "        request_body = {\n",
        "            'language': 'en-US',\n",
        "            'completion': completion,\n",
        "            'callback': callback,\n",
        "            'userdata': userdata,\n",
        "            'wordAlignment': wordAlignment,\n",
        "            'fullText': fullText,\n",
        "            'forbiddens': forbiddens,\n",
        "            'boostings': boostings,\n",
        "            'diarization': diarization,\n",
        "        }\n",
        "        headers = {\n",
        "            'Accept': 'application/json;UTF-8',\n",
        "            'X-CLOVASPEECH-API-KEY': self.secret\n",
        "        }\n",
        "        print(json.dumps(request_body, ensure_ascii=False).encode('UTF-8'))\n",
        "        files = {\n",
        "            'media': open(file, 'rb'),\n",
        "            'params': (None, json.dumps(request_body, ensure_ascii=False).encode('UTF-8'), 'application/json')\n",
        "        }\n",
        "        response = requests.post(headers=headers, url=self.invoke_url + '/recognizer/upload', files=files)\n",
        "        return response\n",
        "\n",
        "if __name__ == '__main__':\n",
        "    # res = ClovaSpeechClient().req_url(url='http://example.com/media.mp3', completion='sync')\n",
        "    # res = ClovaSpeechClient().req_object_storage(data_key='data/media.mp3', completion='sync')\n",
        "    res = ClovaSpeechClient().req_upload(file='/content/bts.mp4', completion='sync')\n",
        "    print(res.text)"
      ],
      "metadata": {
        "colab": {
          "base_uri": "https://localhost:8080/"
        },
        "id": "a78qohZJ5wwh",
        "outputId": "5a06fd26-147e-45a5-91f2-6853e4563f60"
      },
      "execution_count": null,
      "outputs": [
        {
          "output_type": "stream",
          "name": "stdout",
          "text": [
            "b'{\"language\": \"en-US\", \"completion\": \"sync\", \"callback\": null, \"userdata\": null, \"wordAlignment\": true, \"fullText\": true, \"forbiddens\": null, \"boostings\": null, \"diarization\": null}'\n",
            "{\"result\":\"COMPLETED\",\"message\":\"Succeeded\",\"token\":\"fdf9105c30634ccd8b6668d81c500607\",\"version\":\"ncp_v2_v2.0.10-50d3a5d-20220210_v1.5.9_v0.0.0_\",\"params\":{\"service\":\"ncp\",\"domain\":\"general\",\"lang\":\"en\",\"completion\":\"sync\",\"diarization\":{\"enable\":true,\"speakerCountMin\":-1,\"speakerCountMax\":-1},\"boostings\":[],\"forbiddens\":\"\",\"wordAlignment\":true,\"fullText\":true,\"resultToObs\":false,\"priority\":0,\"userdata\":{\"_ncp_DomainCode\":\"sumin\",\"_ncp_DomainId\":2389,\"_ncp_TaskId\":3052275,\"_ncp_TraceId\":\"00e435dc03ab451cacfc220f2e8b8412\"}},\"progress\":100,\"keywords\":{},\"segments\":[{\"start\":1180,\"end\":6940,\"text\":\"i about to find out internet get your thumbs ready because the american musical award goes too.\",\"confidence\":0.8926542,\"diarization\":{\"label\":\"1\"},\"speaker\":{\"label\":\"1\",\"name\":\"A\",\"edited\":false},\"words\":[[1181,1300,\"i\"],[1301,1418,\"about\"],[1419,1740,\"to\"],[1890,2260,\"find\"],[2261,2688,\"out\"],[2689,2779,\"internet\"],[2780,3031,\"get\"],[3032,3313,\"your\"],[3314,3553,\"thumbs\"],[3554,3840,\"ready\"],[3841,3987,\"because\"],[3988,4738,\"the\"],[4739,5020,\"american\"],[5021,5364,\"musical\"],[5365,5860,\"award\"],[5890,6240,\"goes\"],[6241,6760,\"too.\"]],\"textEdited\":\"i about to find out internet get your thumbs ready because the american musical award goes too.\"},{\"start\":49230,\"end\":53140,\"text\":\"i all seriously for got what i got to say ah.\",\"confidence\":0.74805045,\"diarization\":{\"label\":\"2\"},\"speaker\":{\"label\":\"2\",\"name\":\"B\",\"edited\":false},\"words\":[[49231,49350,\"i\"],[50220,50450,\"all\"],[50480,50702,\"seriously\"],[50703,51126,\"for\"],[51127,51550,\"got\"],[51660,51930,\"what\"],[52040,52287,\"i\"],[52288,52370,\"got\"],[52371,52562,\"to\"],[52563,52710,\"say\"],[52711,53010,\"ah.\"]],\"textEdited\":\"i all seriously for got what i got to say ah.\"},{\"start\":58230,\"end\":68740,\"text\":\"thank you mays and we're truly honored to be on this stage with such amazing tremendous artists right over here we're so honored.\",\"confidence\":0.890927,\"diarization\":{\"label\":\"2\"},\"speaker\":{\"label\":\"2\",\"name\":\"B\",\"edited\":false},\"words\":[[58231,58500,\"thank\"],[58501,58950,\"you\"],[58960,59530,\"mays\"],[59540,60390,\"and\"],[60800,61210,\"we're\"],[61580,62110,\"truly\"],[62140,62284,\"honored\"],[62285,62790,\"to\"],[62791,62950,\"be\"],[62951,63180,\"on\"],[63181,63430,\"this\"],[63431,63617,\"stage\"],[63618,63850,\"with\"],[63880,64270,\"such\"],[64271,65510,\"amazing\"],[65560,66210,\"tremendous\"],[66211,66610,\"artists\"],[66611,66826,\"right\"],[66827,67108,\"over\"],[67109,67390,\"here\"],[67560,67694,\"we're\"],[67695,68030,\"so\"],[68160,68740,\"honored.\"]],\"textEdited\":\"thank you mays and we're truly honored to be on this stage with such amazing tremendous artists right over here we're so honored.\"},{\"start\":68880,\"end\":70840,\"text\":\"thanks for that\",\"confidence\":0.7194472,\"diarization\":{\"label\":\"2\"},\"speaker\":{\"label\":\"2\",\"name\":\"B\",\"edited\":false},\"words\":[[68881,69146,\"thanks\"],[69147,69566,\"for\"],[69567,69880,\"that\"]],\"textEdited\":\"thanks for that\"},{\"start\":76240,\"end\":79140,\"text\":\"i'm nervous yeah i'm nervous yea thered.\",\"confidence\":0.8116594,\"diarization\":{\"label\":\"2\"},\"speaker\":{\"label\":\"2\",\"name\":\"B\",\"edited\":false},\"words\":[[76241,76842,\"i'm\"],[76843,77100,\"nervous\"],[77630,77920,\"yeah\"],[77921,78295,\"i'm\"],[78296,78405,\"nervous\"],[78406,78807,\"yea\"],[78808,78980,\"thered.\"]],\"textEdited\":\"i'm nervous yeah i'm nervous yea thered.\"},{\"start\":79480,\"end\":80090,\"text\":\"\",\"confidence\":0.0,\"diarization\":{\"label\":\"3\"},\"speaker\":{\"label\":\"3\",\"name\":\"C\",\"edited\":false},\"words\":[],\"textEdited\":\"\"},{\"start\":80230,\"end\":87840,\"text\":\"four years ago we had gave his first time ever tv live performance.\",\"confidence\":0.8704823,\"diarization\":{\"label\":\"2\"},\"speaker\":{\"label\":\"2\",\"name\":\"B\",\"edited\":false},\"words\":[[80231,80696,\"four\"],[80697,80912,\"years\"],[80913,81270,\"ago\"],[82280,82470,\"we\"],[82480,82750,\"had\"],[83080,83410,\"gave\"],[83411,83670,\"his\"],[84060,84410,\"first\"],[84411,84770,\"time\"],[84771,85250,\"ever\"],[86020,86390,\"tv\"],[86540,86970,\"live\"],[86971,87670,\"performance.\"]],\"textEdited\":\"four years ago we had gave his first time ever tv live performance.\"},{\"start\":87880,\"end\":91640,\"text\":\"at this stage amas it was dina and me.\",\"confidence\":0.6486015,\"diarization\":{\"label\":\"2\"},\"speaker\":{\"label\":\"2\",\"name\":\"B\",\"edited\":false},\"words\":[[87881,88200,\"at\"],[88210,88480,\"this\"],[88490,89060,\"stage\"],[89290,89880,\"amas\"],[90030,90240,\"it\"],[90241,90571,\"was\"],[90572,90820,\"dina\"],[91050,91500,\"and\"],[91501,91640,\"me.\"]],\"textEdited\":\"at this stage amas it was dina and me.\"},{\"start\":93980,\"end\":99940,\"text\":\"we were were we were like two weeks souden and nervous at the time and\",\"confidence\":0.7480373,\"diarization\":{\"label\":\"2\"},\"speaker\":{\"label\":\"2\",\"name\":\"B\",\"edited\":false},\"words\":[[93981,94500,\"we\"],[94501,94760,\"were\"],[94890,95360,\"were\"],[95470,95660,\"we\"],[95730,96120,\"were\"],[96330,96600,\"like\"],[96930,97160,\"two\"],[97161,97495,\"weeks\"],[97496,97800,\"souden\"],[97801,98160,\"and\"],[98161,98247,\"nervous\"],[98248,98660,\"at\"],[98661,98900,\"the\"],[98950,99300,\"time\"],[99310,99680,\"and\"]],\"textEdited\":\"we were were we were like two weeks souden and nervous at the time and\"},{\"start\":100130,\"end\":107340,\"text\":\"it's been it's been a long and amazing ride since then but nobody could have ever that\",\"confidence\":0.84323454,\"diarization\":{\"label\":\"2\"},\"speaker\":{\"label\":\"2\",\"name\":\"B\",\"edited\":false},\"words\":[[100131,100510,\"it's\"],[100511,100890,\"been\"],[101060,101295,\"it's\"],[101296,101530,\"been\"],[101540,101690,\"a\"],[101760,101995,\"long\"],[101996,102510,\"and\"],[102511,102707,\"amazing\"],[102708,103031,\"ride\"],[103032,103244,\"since\"],[103245,103510,\"then\"],[103560,103810,\"but\"],[103960,104430,\"nobody\"],[105100,105410,\"could\"],[105520,105815,\"have\"],[105816,106110,\"ever\"],[106140,107190,\"that\"]],\"textEdited\":\"it's been it's been a long and amazing ride since then but nobody could have ever that\"},{\"start\":107930,\"end\":115640,\"text\":\"on the odds of us standing here receiving this award except\",\"confidence\":0.9023308,\"diarization\":{\"label\":\"2\"},\"speaker\":{\"label\":\"2\",\"name\":\"B\",\"edited\":false},\"words\":[[107931,108242,\"on\"],[108243,108612,\"the\"],[108613,108745,\"odds\"],[108746,108948,\"of\"],[108949,109150,\"us\"],[109151,109416,\"standing\"],[109417,109970,\"here\"],[110000,110243,\"receiving\"],[110244,110790,\"this\"],[110791,111310,\"award\"],[114800,115490,\"except\"]],\"textEdited\":\"on the odds of us standing here receiving this award except\"},{\"start\":116230,\"end\":118340,\"text\":\"except sharming exception.\",\"confidence\":0.6346775,\"diarization\":{\"label\":\"2\"},\"speaker\":{\"label\":\"2\",\"name\":\"B\",\"edited\":false},\"words\":[[116231,117007,\"except\"],[117008,117698,\"sharming\"],[117699,118250,\"exception.\"]],\"textEdited\":\"except sharming exception.\"},{\"start\":123430,\"end\":126940,\"text\":\"seven goys from the career united by a love from music.\",\"confidence\":0.7820716,\"diarization\":{\"label\":\"2\"},\"speaker\":{\"label\":\"2\",\"name\":\"B\",\"edited\":false},\"words\":[[123431,123812,\"seven\"],[123813,124290,\"goys\"],[124480,124930,\"from\"],[124931,125266,\"the\"],[125267,125450,\"career\"],[125451,125562,\"united\"],[125563,125990,\"by\"],[125991,126260,\"a\"],[126261,126395,\"love\"],[126396,126668,\"from\"],[126669,126850,\"music.\"]],\"textEdited\":\"seven goys from the career united by a love from music.\"},{\"start\":128530,\"end\":133540,\"text\":\"met the love and support from all the armies all over the world.\",\"confidence\":0.9553709,\"diarization\":{\"label\":\"2\"},\"speaker\":{\"label\":\"2\",\"name\":\"B\",\"edited\":false},\"words\":[[128531,129170,\"met\"],[129200,129790,\"the\"],[129791,130270,\"love\"],[130271,130981,\"and\"],[130982,131290,\"support\"],[131380,131690,\"from\"],[131700,131895,\"all\"],[131896,132090,\"the\"],[132320,132490,\"armies\"],[132491,132799,\"all\"],[132800,133030,\"over\"],[133080,133386,\"the\"],[133387,133540,\"world.\"]],\"textEdited\":\"met the love and support from all the armies all over the world.\"},{\"start\":136730,\"end\":145940,\"text\":\"this whole thing is americal seriously we would never take this for granted thank you so much love you all.\",\"confidence\":0.8720581,\"diarization\":{\"label\":\"2\"},\"speaker\":{\"label\":\"2\",\"name\":\"B\",\"edited\":false},\"words\":[[136731,136996,\"this\"],[136997,137283,\"whole\"],[137284,137406,\"thing\"],[137407,138017,\"is\"],[138018,138170,\"americal\"],[140340,140850,\"seriously\"],[140960,141170,\"we\"],[141460,141770,\"would\"],[141771,141984,\"never\"],[141985,142237,\"take\"],[142238,142414,\"this\"],[142415,142915,\"for\"],[142916,143130,\"granted\"],[143131,143381,\"thank\"],[143382,143633,\"you\"],[143634,144010,\"so\"],[144040,144390,\"much\"],[145060,145278,\"love\"],[145279,145570,\"you\"],[145571,145890,\"all.\"]],\"textEdited\":\"this whole thing is americal seriously we would never take this for granted thank you so much love you all.\"},{\"start\":146030,\"end\":155340,\"text\":\"i want to give his honor to you guys thank you your hat big hit steff all the people and\",\"confidence\":0.7988003,\"diarization\":{\"label\":\"2\"},\"speaker\":{\"label\":\"2\",\"name\":\"B\",\"edited\":false},\"words\":[[146031,146150,\"i\"],[146420,146690,\"want\"],[146691,147006,\"to\"],[147007,147171,\"give\"],[147172,147390,\"his\"],[147391,147537,\"honor\"],[147538,147930,\"to\"],[147940,148170,\"you\"],[148171,148510,\"guys\"],[148511,148931,\"thank\"],[148932,149456,\"you\"],[149457,149850,\"your\"],[150260,150490,\"hat\"],[150600,150850,\"big\"],[150851,151150,\"hit\"],[151460,151930,\"steff\"],[151931,152155,\"all\"],[152156,152390,\"the\"],[152720,153090,\"people\"],[154900,155130,\"and\"]],\"textEdited\":\"i want to give his honor to you guys thank you your hat big hit steff all the people and\"},{\"start\":155380,\"end\":156640,\"text\":\"i could pass the might.\",\"confidence\":0.5583091,\"diarization\":{\"label\":\"2\"},\"speaker\":{\"label\":\"2\",\"name\":\"B\",\"edited\":false},\"words\":[[155381,155680,\"i\"],[155681,155740,\"could\"],[155870,156140,\"pass\"],[156170,156483,\"the\"],[156484,156640,\"might.\"]],\"textEdited\":\"i could pass the might.\"},{\"start\":156730,\"end\":158490,\"text\":\"\",\"confidence\":0.0,\"diarization\":{\"label\":\"4\"},\"speaker\":{\"label\":\"4\",\"name\":\"D\",\"edited\":false},\"words\":[],\"textEdited\":\"\"},{\"start\":160230,\"end\":161140,\"text\":\"\",\"confidence\":0.0,\"diarization\":{\"label\":\"5\"},\"speaker\":{\"label\":\"5\",\"name\":\"E\",\"edited\":false},\"words\":[],\"textEdited\":\"\"},{\"start\":161330,\"end\":173190,\"text\":\"\",\"confidence\":0.0,\"diarization\":{\"label\":\"4\"},\"speaker\":{\"label\":\"4\",\"name\":\"D\",\"edited\":false},\"words\":[],\"textEdited\":\"\"},{\"start\":174530,\"end\":183740,\"text\":\"so des yeah we just wanted to make people happy with our music.\",\"confidence\":0.8093095,\"diarization\":{\"label\":\"5\"},\"speaker\":{\"label\":\"5\",\"name\":\"E\",\"edited\":false},\"words\":[[174531,174750,\"so\"],[175040,175290,\"des\"],[177860,178170,\"yeah\"],[178800,178990,\"we\"],[178991,179538,\"just\"],[179539,179671,\"wanted\"],[179672,180070,\"to\"],[180100,180510,\"make\"],[180920,181310,\"people\"],[181320,181770,\"happy\"],[181900,182790,\"with\"],[182791,183010,\"our\"],[183011,183630,\"music.\"]],\"textEdited\":\"so des yeah we just wanted to make people happy with our music.\"},{\"start\":184080,\"end\":192140,\"text\":\"we believe that this award opens the beginning of our new chapter and\",\"confidence\":0.8364015,\"diarization\":{\"label\":\"5\"},\"speaker\":{\"label\":\"5\",\"name\":\"E\",\"edited\":false},\"words\":[[184081,184700,\"we\"],[184730,185180,\"believe\"],[185181,185460,\"that\"],[185770,186080,\"this\"],[187970,188440,\"award\"],[188490,188980,\"opens\"],[189050,189320,\"the\"],[189390,189511,\"beginning\"],[189512,190060,\"of\"],[190070,190300,\"our\"],[190301,190540,\"new\"],[190541,191020,\"chapter\"],[191490,191900,\"and\"]],\"textEdited\":\"we believe that this award opens the beginning of our new chapter and\"},{\"start\":193380,\"end\":196240,\"text\":\"in the past few years\",\"confidence\":0.8380685,\"diarization\":{\"label\":\"5\"},\"speaker\":{\"label\":\"5\",\"name\":\"E\",\"edited\":false},\"words\":[[193381,193620,\"in\"],[193730,194124,\"the\"],[194125,194420,\"past\"],[195310,195560,\"few\"],[195670,196100,\"years\"]],\"textEdited\":\"in the past few years\"},{\"start\":200680,\"end\":209890,\"text\":\"in the past few years learned at each and every moments.\",\"confidence\":0.8293483,\"diarization\":{\"label\":\"5\"},\"speaker\":{\"label\":\"5\",\"name\":\"E\",\"edited\":false},\"words\":[[200681,200884,\"in\"],[200885,201020,\"the\"],[201290,201640,\"past\"],[202350,202580,\"few\"],[202581,202940,\"years\"],[206850,207260,\"learned\"],[207270,207460,\"at\"],[207510,207940,\"each\"],[208190,208733,\"and\"],[208734,209060,\"every\"],[209070,209720,\"moments.\"]],\"textEdited\":\"in the past few years learned at each and every moments.\"},{\"start\":210080,\"end\":215640,\"text\":\"his precious so in twenty 20 two\",\"confidence\":0.63053894,\"diarization\":{\"label\":\"5\"},\"speaker\":{\"label\":\"5\",\"name\":\"E\",\"edited\":false},\"words\":[[210081,210660,\"his\"],[212310,212820,\"precious\"],[212890,213100,\"so\"],[213870,214100,\"in\"],[214110,214282,\"twenty\"],[214283,214800,\"20\"],[214850,215100,\"two\"]],\"textEdited\":\"his precious so in twenty 20 two\"},{\"start\":216630,\"end\":223680,\"text\":\"we want we want to focus on we want to focus on.\",\"confidence\":0.80455256,\"diarization\":{\"label\":\"5\"},\"speaker\":{\"label\":\"5\",\"name\":\"E\",\"edited\":false},\"words\":[[216631,217170,\"we\"],[217800,218090,\"want\"],[219400,219590,\"we\"],[219591,219690,\"want\"],[219691,219950,\"to\"],[219960,220390,\"focus\"],[220500,220710,\"on\"],[220820,221693,\"we\"],[221694,222130,\"want\"],[222300,222664,\"to\"],[222665,222810,\"focus\"],[222860,223210,\"on.\"]],\"textEdited\":\"we want we want to focus on we want to focus on.\"},{\"start\":226530,\"end\":227240,\"text\":\"yeah.\",\"confidence\":0.8099178,\"diarization\":{\"label\":\"6\"},\"speaker\":{\"label\":\"6\",\"name\":\"F\",\"edited\":false},\"words\":[[226531,227240,\"yeah.\"]],\"textEdited\":\"yeah.\"},{\"start\":227930,\"end\":234230,\"text\":\"i'm deeply touched by my by this al world i so appreciate your late\",\"confidence\":0.67889374,\"diarization\":{\"label\":\"7\"},\"speaker\":{\"label\":\"7\",\"name\":\"G\",\"edited\":false},\"words\":[[227931,228490,\"i'm\"],[228491,228910,\"deeply\"],[229240,229357,\"touched\"],[229358,229770,\"by\"],[229780,230010,\"my\"],[231040,231313,\"by\"],[231314,231450,\"this\"],[231451,231610,\"al\"],[231611,232030,\"world\"],[232160,232310,\"i\"],[232360,232570,\"so\"],[232580,232822,\"appreciate\"],[232823,233430,\"your\"],[233431,233750,\"late\"]],\"textEdited\":\"i'm deeply touched by my by this al world i so appreciate your late\"},{\"start\":234230,\"end\":237140,\"text\":\"mean thank you image thank you or your papa you.\",\"confidence\":0.5144319,\"diarization\":{\"label\":\"8\"},\"speaker\":{\"label\":\"8\",\"name\":\"H\",\"edited\":false},\"words\":[[234231,234685,\"mean\"],[234686,234882,\"thank\"],[234883,235210,\"you\"],[235211,235590,\"image\"],[235620,235803,\"thank\"],[235804,236110,\"you\"],[236111,236340,\"or\"],[236341,236505,\"your\"],[236506,236670,\"papa\"],[236671,237070,\"you.\"]],\"textEdited\":\"mean thank you image thank you or your papa you.\"}],\"text\":\"i about to find out internet get your thumbs ready because the american musical award goes too. i all seriously for got what i got to say ah. thank you mays and we're truly honored to be on this stage with such amazing tremendous artists right over here we're so honored. thanks for that i'm nervous yeah i'm nervous yea thered. four years ago we had gave his first time ever tv live performance. at this stage amas it was dina and me. we were were we were like two weeks souden and nervous at the time and it's been it's been a long and amazing ride since then but nobody could have ever that on the odds of us standing here receiving this award except except sharming exception. seven goys from the career united by a love from music. met the love and support from all the armies all over the world. this whole thing is americal seriously we would never take this for granted thank you so much love you all. i want to give his honor to you guys thank you your hat big hit steff all the people and i could pass the might. so des yeah we just wanted to make people happy with our music. we believe that this award opens the beginning of our new chapter and in the past few years in the past few years learned at each and every moments. his precious so in twenty 20 two we want we want to focus on we want to focus on. yeah. i'm deeply touched by my by this al world i so appreciate your late mean thank you image thank you or your papa you.\",\"confidence\":0.8058409,\"speakers\":[{\"label\":\"1\",\"name\":\"A\",\"edited\":false},{\"label\":\"2\",\"name\":\"B\",\"edited\":false},{\"label\":\"3\",\"name\":\"C\",\"edited\":false},{\"label\":\"4\",\"name\":\"D\",\"edited\":false},{\"label\":\"5\",\"name\":\"E\",\"edited\":false},{\"label\":\"6\",\"name\":\"F\",\"edited\":false},{\"label\":\"7\",\"name\":\"G\",\"edited\":false},{\"label\":\"8\",\"name\":\"H\",\"edited\":false}]}\n"
          ]
        }
      ]
    },
    {
      "cell_type": "code",
      "source": [
        "a = res.json()['text']\n",
        "a"
      ],
      "metadata": {
        "id": "yvtrB6bjBvAp",
        "colab": {
          "base_uri": "https://localhost:8080/",
          "height": 219
        },
        "outputId": "535a8f82-da9c-4a79-fc85-054e6a4f666f"
      },
      "execution_count": null,
      "outputs": [
        {
          "output_type": "execute_result",
          "data": {
            "text/plain": [
              "\"i about to find out internet get your thumbs ready because the american musical award goes too. i all seriously for got what i got to say ah. thank you mays and we're truly honored to be on this stage with such amazing tremendous artists right over here we're so honored. thanks for that i'm nervous yeah i'm nervous yea thered. four years ago we had gave his first time ever tv live performance. at this stage amas it was dina and me. we were were we were like two weeks souden and nervous at the time and it's been it's been a long and amazing ride since then but nobody could have ever that on the odds of us standing here receiving this award except except sharming exception. seven goys from the career united by a love from music. met the love and support from all the armies all over the world. this whole thing is americal seriously we would never take this for granted thank you so much love you all. i want to give his honor to you guys thank you your hat big hit steff all the people and i could pass the might. so des yeah we just wanted to make people happy with our music. we believe that this award opens the beginning of our new chapter and in the past few years in the past few years learned at each and every moments. his precious so in twenty 20 two we want we want to focus on we want to focus on. yeah. i'm deeply touched by my by this al world i so appreciate your late mean thank you image thank you or your papa you.\""
            ],
            "application/vnd.google.colaboratory.intrinsic+json": {
              "type": "string"
            }
          },
          "metadata": {},
          "execution_count": 38
        }
      ]
    },
    {
      "cell_type": "markdown",
      "source": [
        "# Papago Text Translation"
      ],
      "metadata": {
        "id": "dlow_G35IqQk"
      }
    },
    {
      "cell_type": "code",
      "source": [
        "# // 네이버 Papago Text Translation API 예제\n",
        "import os\n",
        "import sys\n",
        "import urllib.request\n",
        "client_id = \"is0x54abfw\"\n",
        "client_secret = \"zBj1LcxbrsNwc4nJdaB1jwLEtM3GEV0aPD5kL6FT\"\n",
        "encText = urllib.parse.quote(a)\n",
        "data = \"source=en&target=ko&honorific=True&text=\" + encText  # 영어 한국어 설정\n",
        "url = \"https://naveropenapi.apigw.ntruss.com/nmt/v1/translation\"\n",
        "request = urllib.request.Request(url)\n",
        "request.add_header(\"X-NCP-APIGW-API-KEY-ID\",client_id)\n",
        "request.add_header(\"X-NCP-APIGW-API-KEY\",client_secret)\n",
        "response = urllib.request.urlopen(request, data=data.encode(\"utf-8\"))\n",
        "rescode = response.getcode()\n",
        "if(rescode==200):\n",
        "    response_body = response.read()\n",
        "    print(response_body.decode('utf-8'))\n",
        "else:\n",
        "    print(\"Error Code:\" + rescode)"
      ],
      "metadata": {
        "colab": {
          "base_uri": "https://localhost:8080/"
        },
        "id": "iGi0PZixIp88",
        "outputId": "e786f40b-ff9d-49b6-f202-b0e8aed1c34b"
      },
      "execution_count": null,
      "outputs": [
        {
          "output_type": "stream",
          "name": "stdout",
          "text": [
            "{\"message\":{\"@type\":\"response\",\"@service\":\"naverservice.nmt.proxy\",\"@version\":\"1.0.0\",\"result\":{\"srcLangType\":\"en\",\"tarLangType\":\"ko\",\"translatedText\":\"미국 뮤지컬 상도 가기 때문에 인터넷을 통해 엄지손가락 준비에 대해 알아보려고 합니다. 아, 정말 감사합니다. 그리고 이 무대에 이렇게 멋진 아티스트들과 함께 서게 되어 정말 영광입니다. 긴장되서 고마워 그래, 긴장되네 4년 전 우리는 그의 생애 첫 TV 라이브 공연을 했다. 이 단계에서 디나와 나였다. 우리는 2주 동안 긴장하고 있었고, 그 이후로 길고 놀라운 여정이었다. 하지만 우리가 이 상을 받을 확률로 여기 서 있는 것은 날카로운 예외 외에는 아무도 할 수상이 불가능했다. 음악으로부터의 사랑으로 단결된 커리어 출신의 7명의 남자아이들이 전 세계 군대의 사랑과 지지를 받았습니다. 이 모든 것이 심각하게 우리는 이 모든 것을 당연하게 여기지 않을 것입니다. 여러분 모두에게 감사하다는 그의 명예를 드리고 싶습니다. 모든 사람들에게 당신의 모자에 감사하며 나는 힘을 넘길 수 있습니다. 그래서 우리는 단지 우리의 음악으로 사람들을 행복하게 하고 싶었습니다. 우리는 이 상이 우리의 새로운 장의 시작과 지난 몇 년 동안 매 순간마다 배운 것을 열었다고 믿는다. 그의 소중한 존재이기 때문에 우리는 222년 동안 집중하고 싶다. 응. 나는 이 세상에 깊이 감동받았어. 너의 늦은 감사 이미지 고마워, 아니면 너의 아빠 고마워.\"}}}\n"
          ]
        }
      ]
    },
    {
      "cell_type": "code",
      "source": [
        "a = response_body.decode('utf-8')\n",
        "a.split('\"')[-2]"
      ],
      "metadata": {
        "colab": {
          "base_uri": "https://localhost:8080/",
          "height": 164
        },
        "id": "taGhDvmEAKa2",
        "outputId": "c8bc8478-9953-4210-a456-b3bacdf298b6"
      },
      "execution_count": null,
      "outputs": [
        {
          "output_type": "execute_result",
          "data": {
            "text/plain": [
              "'미국 뮤지컬 상도 가기 때문에 인터넷을 통해 엄지손가락 준비에 대해 알아보려고 합니다. 아, 정말 감사합니다. 그리고 이 무대에 이렇게 멋진 아티스트들과 함께 서게 되어 정말 영광입니다. 긴장되서 고마워 그래, 긴장되네 4년 전 우리는 그의 생애 첫 TV 라이브 공연을 했다. 이 단계에서 디나와 나였다. 우리는 2주 동안 긴장하고 있었고, 그 이후로 길고 놀라운 여정이었다. 하지만 우리가 이 상을 받을 확률로 여기 서 있는 것은 날카로운 예외 외에는 아무도 할 수상이 불가능했다. 음악으로부터의 사랑으로 단결된 커리어 출신의 7명의 남자아이들이 전 세계 군대의 사랑과 지지를 받았습니다. 이 모든 것이 심각하게 우리는 이 모든 것을 당연하게 여기지 않을 것입니다. 여러분 모두에게 감사하다는 그의 명예를 드리고 싶습니다. 모든 사람들에게 당신의 모자에 감사하며 나는 힘을 넘길 수 있습니다. 그래서 우리는 단지 우리의 음악으로 사람들을 행복하게 하고 싶었습니다. 우리는 이 상이 우리의 새로운 장의 시작과 지난 몇 년 동안 매 순간마다 배운 것을 열었다고 믿는다. 그의 소중한 존재이기 때문에 우리는 222년 동안 집중하고 싶다. 응. 나는 이 세상에 깊이 감동받았어. 너의 늦은 감사 이미지 고마워, 아니면 너의 아빠 고마워.'"
            ],
            "application/vnd.google.colaboratory.intrinsic+json": {
              "type": "string"
            }
          },
          "metadata": {},
          "execution_count": 41
        }
      ]
    },
    {
      "cell_type": "markdown",
      "source": [
        "# CLOVA Voice"
      ],
      "metadata": {
        "id": "C0nWo2hPK0od"
      }
    },
    {
      "cell_type": "code",
      "source": [
        "# // 네이버 음성합성 Open API 예제\n",
        "import os\n",
        "import sys\n",
        "import urllib.request\n",
        "client_id = \"is0x54abfw\"\n",
        "client_secret = \"zBj1LcxbrsNwc4nJdaB1jwLEtM3GEV0aPD5kL6FT\"\n",
        "encText = urllib.parse.quote(a)\n",
        "data = \"speaker=nara&volume=0&speed=0&pitch=0&format=mp3&text=\" + encText;\n",
        "url = \"https://naveropenapi.apigw.ntruss.com/tts-premium/v1/tts\"\n",
        "request = urllib.request.Request(url)\n",
        "request.add_header(\"X-NCP-APIGW-API-KEY-ID\",client_id)\n",
        "request.add_header(\"X-NCP-APIGW-API-KEY\",client_secret)\n",
        "response = urllib.request.urlopen(request, data=data.encode('utf-8'))\n",
        "rescode = response.getcode()\n",
        "if(rescode==200):\n",
        "    print(\"TTS mp3 저장\")\n",
        "    response_body = response.read()\n",
        "    with open('2222.mp3', 'wb') as f:\n",
        "        f.write(response_body)\n",
        "else:\n",
        "    print(\"Error Code:\" + rescode)"
      ],
      "metadata": {
        "colab": {
          "base_uri": "https://localhost:8080/"
        },
        "id": "YcWj_wB4G5RD",
        "outputId": "4f0ebc31-8a19-475f-e55d-41c3a6683b89"
      },
      "execution_count": null,
      "outputs": [
        {
          "output_type": "stream",
          "name": "stdout",
          "text": [
            "TTS mp3 저장\n"
          ]
        }
      ]
    },
    {
      "cell_type": "code",
      "source": [
        "b = response_body.decode('utf-8')"
      ],
      "metadata": {
        "id": "v1xqEKTwK7wm"
      },
      "execution_count": null,
      "outputs": []
    },
    {
      "cell_type": "code",
      "source": [
        ""
      ],
      "metadata": {
        "id": "-8MSfHhQPaiv"
      },
      "execution_count": null,
      "outputs": []
    }
  ]
}