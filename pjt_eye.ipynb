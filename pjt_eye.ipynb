{
  "nbformat": 4,
  "nbformat_minor": 0,
  "metadata": {
    "colab": {
      "name": "pjt_eye",
      "provenance": [],
      "collapsed_sections": []
    },
    "kernelspec": {
      "name": "python3",
      "display_name": "Python 3"
    },
    "language_info": {
      "name": "python"
    },
    "accelerator": "GPU"
  },
  "cells": [
    {
      "cell_type": "code",
      "execution_count": 1,
      "metadata": {
        "id": "Wv-VxK7DvjYk"
      },
      "outputs": [],
      "source": [
        "import datetime\n",
        "import numpy as np\n",
        "import matplotlib.pyplot as plt\n",
        "from keras.layers import Input, Dense, Activation, Conv2D, Flatten, MaxPooling2D\n",
        "from keras.models import Model, load_model\n",
        "from keras.preprocessing.image import ImageDataGenerator\n",
        "from keras.callbacks import ModelCheckpoint, ReduceLROnPlateau\n",
        "plt.style.use('dark_background')"
      ]
    },
    {
      "cell_type": "code",
      "source": [
        "x_train = np.load('/content/x_train.npy').astype(np.float32)\n",
        "y_train = np.load('/content/y_train.npy').astype(np.float32)\n",
        "x_val = np.load('/content/x_val.npy').astype(np.float32)\n",
        "y_val = np.load('/content/y_val.npy').astype(np.float32)\n",
        "\n",
        "print(x_train.shape, y_train.shape)\n",
        "print(x_val.shape, y_val.shape)"
      ],
      "metadata": {
        "id": "OhEfY2HYwKjm",
        "colab": {
          "base_uri": "https://localhost:8080/"
        },
        "outputId": "e9fc0b54-976d-4b9c-ab50-99eaa1121a4d"
      },
      "execution_count": 3,
      "outputs": [
        {
          "output_type": "stream",
          "name": "stdout",
          "text": [
            "(2586, 26, 34, 1) (2586, 1)\n",
            "(288, 26, 34, 1) (288, 1)\n"
          ]
        }
      ]
    },
    {
      "cell_type": "code",
      "source": [
        "plt.subplot(2, 1, 1)"
      ],
      "metadata": {
        "id": "7YGc2XjewwBr",
        "colab": {
          "base_uri": "https://localhost:8080/",
          "height": 169
        },
        "outputId": "8d574f6b-c18e-48ce-cae1-1174dc7f33cd"
      },
      "execution_count": 4,
      "outputs": [
        {
          "output_type": "execute_result",
          "data": {
            "text/plain": [
              "<matplotlib.axes._subplots.AxesSubplot at 0x7f072f79dad0>"
            ]
          },
          "metadata": {},
          "execution_count": 4
        },
        {
          "output_type": "display_data",
          "data": {
            "text/plain": [
              "<Figure size 432x288 with 1 Axes>"
            ],
            "image/png": "[encoded data removed]"
          },
          "metadata": {
            "needs_background": "dark"
          }
        }
      ]
    },
    {
      "cell_type": "code",
      "source": [
        "plt.subplot(2, 1, 1)\n",
        "plt.title(str(y_train[0]))\n",
        "plt.imshow(x_train[0].reshape((26, 34)), cmap='gray')\n",
        "plt.subplot(2, 1, 2)\n",
        "plt.title(str(y_val[4]))\n",
        "plt.imshow(x_val[4].reshape((26, 34)), cmap='gray')"
      ],
      "metadata": {
        "colab": {
          "base_uri": "https://localhost:8080/",
          "height": 299
        },
        "id": "BjxidzpHrnPb",
        "outputId": "f11b61f7-e250-4db0-d6cd-370605e42527"
      },
      "execution_count": 12,
      "outputs": [
        {
          "output_type": "execute_result",
          "data": {
            "text/plain": [
              "<matplotlib.image.AxesImage at 0x7f069ac6a190>"
            ]
          },
          "metadata": {},
          "execution_count": 12
        },
        {
          "output_type": "display_data",
          "data": {
            "text/plain": [
              "<Figure size 432x288 with 2 Axes>"
            ],
            "image/png": "[encoded data removed]"
          },
          "metadata": {
            "needs_background": "dark"
          }
        }
      ]
    },
    {
      "cell_type": "code",
      "source": [
        "train_datagen = ImageDataGenerator(\n",
        "    rescale=1./255,\n",
        "    rotation_range=10,\n",
        "    width_shift_range=0.2,\n",
        "    height_shift_range=0.2,\n",
        "    shear_range=0.2\n",
        ")\n",
        "\n",
        "val_datagen = ImageDataGenerator(rescale=1./255)\n",
        "\n",
        "train_generator = train_datagen.flow(\n",
        "    x=x_train, y=y_train,\n",
        "    batch_size=32,\n",
        "    shuffle=True\n",
        ")\n",
        "\n",
        "val_generator = val_datagen.flow(\n",
        "    x=x_val, y=y_val,\n",
        "    batch_size=32,\n",
        "    shuffle=False\n",
        ")"
      ],
      "metadata": {
        "id": "38FJPOrjxK8t"
      },
      "execution_count": 5,
      "outputs": []
    },
    {
      "cell_type": "code",
      "source": [
        "inputs = Input(shape=(26, 34, 1))\n",
        "\n",
        "net = Conv2D(32, kernel_size=3, strides=1, padding='same', activation='relu')(inputs)\n",
        "net = MaxPooling2D(pool_size=2)(net)\n",
        "\n",
        "net = Conv2D(64, kernel_size=3, strides=1, padding='same', activation='relu')(net)\n",
        "net = MaxPooling2D(pool_size=2)(net)\n",
        "\n",
        "net = Conv2D(128, kernel_size=3, strides=1, padding='same', activation='relu')(net)\n",
        "net = MaxPooling2D(pool_size=2)(net)\n",
        "\n",
        "net = Flatten()(net)\n",
        "\n",
        "net = Dense(512)(net)\n",
        "net = Activation('relu')(net)\n",
        "net = Dense(1)(net)\n",
        "outputs = Activation('sigmoid')(net)\n",
        "\n",
        "model = Model(inputs=inputs, outputs=outputs)\n",
        "\n",
        "model.compile(optimizer='adam', loss='binary_crossentropy', metrics=['acc'])\n",
        "\n",
        "model.summary()"
      ],
      "metadata": {
        "colab": {
          "base_uri": "https://localhost:8080/"
        },
        "id": "B6Jfz3oAyLWO",
        "outputId": "ca852ae0-55dd-4a44-9a96-6151027a9a1e"
      },
      "execution_count": 6,
      "outputs": [
        {
          "output_type": "stream",
          "name": "stdout",
          "text": [
            "Model: \"model\"\n",
            "_________________________________________________________________\n",
            " Layer (type)                Output Shape              Param #   \n",
            "=================================================================\n",
            " input_1 (InputLayer)        [(None, 26, 34, 1)]       0         \n",
            "                                                                 \n",
            " conv2d (Conv2D)             (None, 26, 34, 32)        320       \n",
            "                                                                 \n",
            " max_pooling2d (MaxPooling2D  (None, 13, 17, 32)       0         \n",
            " )                                                               \n",
            "                                                                 \n",
            " conv2d_1 (Conv2D)           (None, 13, 17, 64)        18496     \n",
            "                                                                 \n",
            " max_pooling2d_1 (MaxPooling  (None, 6, 8, 64)         0         \n",
            " 2D)                                                             \n",
            "                                                                 \n",
            " conv2d_2 (Conv2D)           (None, 6, 8, 128)         73856     \n",
            "                                                                 \n",
            " max_pooling2d_2 (MaxPooling  (None, 3, 4, 128)        0         \n",
            " 2D)                                                             \n",
            "                                                                 \n",
            " flatten (Flatten)           (None, 1536)              0         \n",
            "                                                                 \n",
            " dense (Dense)               (None, 512)               786944    \n",
            "                                                                 \n",
            " activation (Activation)     (None, 512)               0         \n",
            "                                                                 \n",
            " dense_1 (Dense)             (None, 1)                 513       \n",
            "                                                                 \n",
            " activation_1 (Activation)   (None, 1)                 0         \n",
            "                                                                 \n",
            "=================================================================\n",
            "Total params: 880,129\n",
            "Trainable params: 880,129\n",
            "Non-trainable params: 0\n",
            "_________________________________________________________________\n"
          ]
        }
      ]
    },
    {
      "cell_type": "code",
      "source": [
        "start_time = datetime.datetime.now().strftime('%Y_%m_%d_%H_%M_%S')\n",
        "\n",
        "model.fit_generator(\n",
        "    train_generator, epochs=50, validation_data=val_generator,\n",
        "    callbacks=[\n",
        "        ModelCheckpoint('models/%s.h5' % (start_time), monitor='val_acc', save_best_only=True, mode='max', verbose=1),\n",
        "        ReduceLROnPlateau(monitor='val_acc', factor=0.2, patience=10, verbose=1, mode='auto', min_lr=1e-05)\n",
        "    ]\n",
        ")"
      ],
      "metadata": {
        "colab": {
          "base_uri": "https://localhost:8080/"
        },
        "id": "7JS8-bEuztam",
        "outputId": "17546a52-c88b-4814-c84c-4f06bcfea948"
      },
      "execution_count": 7,
      "outputs": [
        {
          "output_type": "stream",
          "name": "stderr",
          "text": [
            "/usr/local/lib/python3.7/dist-packages/ipykernel_launcher.py:7: UserWarning: `Model.fit_generator` is deprecated and will be removed in a future version. Please use `Model.fit`, which supports generators.\n",
            "  import sys\n"
          ]
        },
        {
          "output_type": "stream",
          "name": "stdout",
          "text": [
            "Epoch 1/50\n",
            "78/81 [===========================>..] - ETA: 0s - loss: 0.4911 - acc: 0.7590\n",
            "Epoch 1: val_acc improved from -inf to 0.89583, saving model to models/2022_03_23_02_10_30.h5\n",
            "81/81 [==============================] - 14s 17ms/step - loss: 0.4834 - acc: 0.7649 - val_loss: 0.2576 - val_acc: 0.8958 - lr: 0.0010\n",
            "Epoch 2/50\n",
            "80/81 [============================>.] - ETA: 0s - loss: 0.2441 - acc: 0.9056\n",
            "Epoch 2: val_acc improved from 0.89583 to 0.94097, saving model to models/2022_03_23_02_10_30.h5\n",
            "81/81 [==============================] - 1s 13ms/step - loss: 0.2430 - acc: 0.9060 - val_loss: 0.1547 - val_acc: 0.9410 - lr: 0.0010\n",
            "Epoch 3/50\n",
            "80/81 [============================>.] - ETA: 0s - loss: 0.1723 - acc: 0.9428\n",
            "Epoch 3: val_acc improved from 0.94097 to 0.94792, saving model to models/2022_03_23_02_10_30.h5\n",
            "81/81 [==============================] - 1s 14ms/step - loss: 0.1710 - acc: 0.9435 - val_loss: 0.0827 - val_acc: 0.9479 - lr: 0.0010\n",
            "Epoch 4/50\n",
            "79/81 [============================>.] - ETA: 0s - loss: 0.1529 - acc: 0.9457\n",
            "Epoch 4: val_acc improved from 0.94792 to 0.97222, saving model to models/2022_03_23_02_10_30.h5\n",
            "81/81 [==============================] - 1s 14ms/step - loss: 0.1517 - acc: 0.9466 - val_loss: 0.0555 - val_acc: 0.9722 - lr: 0.0010\n",
            "Epoch 5/50\n",
            "80/81 [============================>.] - ETA: 0s - loss: 0.1004 - acc: 0.9659\n",
            "Epoch 5: val_acc improved from 0.97222 to 0.97917, saving model to models/2022_03_23_02_10_30.h5\n",
            "81/81 [==============================] - 1s 14ms/step - loss: 0.0996 - acc: 0.9660 - val_loss: 0.0415 - val_acc: 0.9792 - lr: 0.0010\n",
            "Epoch 6/50\n",
            "79/81 [============================>.] - ETA: 0s - loss: 0.0916 - acc: 0.9671\n",
            "Epoch 6: val_acc improved from 0.97917 to 0.98264, saving model to models/2022_03_23_02_10_30.h5\n",
            "81/81 [==============================] - 1s 14ms/step - loss: 0.0913 - acc: 0.9667 - val_loss: 0.0409 - val_acc: 0.9826 - lr: 0.0010\n",
            "Epoch 7/50\n",
            "78/81 [===========================>..] - ETA: 0s - loss: 0.0761 - acc: 0.9739\n",
            "Epoch 7: val_acc did not improve from 0.98264\n",
            "81/81 [==============================] - 1s 13ms/step - loss: 0.0763 - acc: 0.9741 - val_loss: 0.0332 - val_acc: 0.9826 - lr: 0.0010\n",
            "Epoch 8/50\n",
            "79/81 [============================>.] - ETA: 0s - loss: 0.0846 - acc: 0.9730\n",
            "Epoch 8: val_acc improved from 0.98264 to 0.98611, saving model to models/2022_03_23_02_10_30.h5\n",
            "81/81 [==============================] - 1s 14ms/step - loss: 0.0838 - acc: 0.9733 - val_loss: 0.0327 - val_acc: 0.9861 - lr: 0.0010\n",
            "Epoch 9/50\n",
            "80/81 [============================>.] - ETA: 0s - loss: 0.0771 - acc: 0.9765\n",
            "Epoch 9: val_acc improved from 0.98611 to 1.00000, saving model to models/2022_03_23_02_10_30.h5\n",
            "81/81 [==============================] - 1s 14ms/step - loss: 0.0771 - acc: 0.9764 - val_loss: 0.0179 - val_acc: 1.0000 - lr: 0.0010\n",
            "Epoch 10/50\n",
            "78/81 [===========================>..] - ETA: 0s - loss: 0.0684 - acc: 0.9783\n",
            "Epoch 10: val_acc did not improve from 1.00000\n",
            "81/81 [==============================] - 1s 13ms/step - loss: 0.0678 - acc: 0.9783 - val_loss: 0.0174 - val_acc: 0.9965 - lr: 0.0010\n",
            "Epoch 11/50\n",
            "79/81 [============================>.] - ETA: 0s - loss: 0.0563 - acc: 0.9826\n",
            "Epoch 11: val_acc did not improve from 1.00000\n",
            "81/81 [==============================] - 1s 12ms/step - loss: 0.0574 - acc: 0.9818 - val_loss: 0.0869 - val_acc: 0.9688 - lr: 0.0010\n",
            "Epoch 12/50\n",
            "79/81 [============================>.] - ETA: 0s - loss: 0.0552 - acc: 0.9833\n",
            "Epoch 12: val_acc did not improve from 1.00000\n",
            "81/81 [==============================] - 1s 14ms/step - loss: 0.0560 - acc: 0.9830 - val_loss: 0.0295 - val_acc: 0.9896 - lr: 0.0010\n",
            "Epoch 13/50\n",
            "80/81 [============================>.] - ETA: 0s - loss: 0.0480 - acc: 0.9847\n",
            "Epoch 13: val_acc did not improve from 1.00000\n",
            "81/81 [==============================] - 1s 14ms/step - loss: 0.0475 - acc: 0.9849 - val_loss: 0.0287 - val_acc: 0.9896 - lr: 0.0010\n",
            "Epoch 14/50\n",
            "78/81 [===========================>..] - ETA: 0s - loss: 0.0422 - acc: 0.9884\n",
            "Epoch 14: val_acc did not improve from 1.00000\n",
            "81/81 [==============================] - 1s 14ms/step - loss: 0.0410 - acc: 0.9888 - val_loss: 0.0123 - val_acc: 0.9931 - lr: 0.0010\n",
            "Epoch 15/50\n",
            "78/81 [===========================>..] - ETA: 0s - loss: 0.0353 - acc: 0.9892\n",
            "Epoch 15: val_acc did not improve from 1.00000\n",
            "81/81 [==============================] - 1s 14ms/step - loss: 0.0370 - acc: 0.9888 - val_loss: 0.0359 - val_acc: 0.9792 - lr: 0.0010\n",
            "Epoch 16/50\n",
            "81/81 [==============================] - ETA: 0s - loss: 0.0464 - acc: 0.9876\n",
            "Epoch 16: val_acc did not improve from 1.00000\n",
            "81/81 [==============================] - 1s 15ms/step - loss: 0.0464 - acc: 0.9876 - val_loss: 0.0156 - val_acc: 0.9931 - lr: 0.0010\n",
            "Epoch 17/50\n",
            "78/81 [===========================>..] - ETA: 0s - loss: 0.0403 - acc: 0.9863\n",
            "Epoch 17: val_acc did not improve from 1.00000\n",
            "81/81 [==============================] - 1s 15ms/step - loss: 0.0391 - acc: 0.9869 - val_loss: 0.0206 - val_acc: 0.9931 - lr: 0.0010\n",
            "Epoch 18/50\n",
            "78/81 [===========================>..] - ETA: 0s - loss: 0.0247 - acc: 0.9900\n",
            "Epoch 18: val_acc did not improve from 1.00000\n",
            "81/81 [==============================] - 1s 14ms/step - loss: 0.0248 - acc: 0.9899 - val_loss: 0.0083 - val_acc: 0.9965 - lr: 0.0010\n",
            "Epoch 19/50\n",
            "81/81 [==============================] - ETA: 0s - loss: 0.0279 - acc: 0.9903\n",
            "Epoch 19: val_acc did not improve from 1.00000\n",
            "\n",
            "Epoch 19: ReduceLROnPlateau reducing learning rate to 0.00020000000949949026.\n",
            "81/81 [==============================] - 1s 15ms/step - loss: 0.0279 - acc: 0.9903 - val_loss: 0.0121 - val_acc: 0.9931 - lr: 0.0010\n",
            "Epoch 20/50\n",
            "81/81 [==============================] - ETA: 0s - loss: 0.0170 - acc: 0.9942\n",
            "Epoch 20: val_acc did not improve from 1.00000\n",
            "81/81 [==============================] - 1s 14ms/step - loss: 0.0170 - acc: 0.9942 - val_loss: 0.0055 - val_acc: 0.9965 - lr: 2.0000e-04\n",
            "Epoch 21/50\n",
            "79/81 [============================>.] - ETA: 0s - loss: 0.0177 - acc: 0.9948\n",
            "Epoch 21: val_acc did not improve from 1.00000\n",
            "81/81 [==============================] - 1s 14ms/step - loss: 0.0177 - acc: 0.9946 - val_loss: 0.0040 - val_acc: 1.0000 - lr: 2.0000e-04\n",
            "Epoch 22/50\n",
            "79/81 [============================>.] - ETA: 0s - loss: 0.0143 - acc: 0.9960\n",
            "Epoch 22: val_acc did not improve from 1.00000\n",
            "81/81 [==============================] - 1s 14ms/step - loss: 0.0142 - acc: 0.9961 - val_loss: 0.0041 - val_acc: 1.0000 - lr: 2.0000e-04\n",
            "Epoch 23/50\n",
            "77/81 [===========================>..] - ETA: 0s - loss: 0.0127 - acc: 0.9959\n",
            "Epoch 23: val_acc did not improve from 1.00000\n",
            "81/81 [==============================] - 1s 14ms/step - loss: 0.0122 - acc: 0.9961 - val_loss: 0.0025 - val_acc: 1.0000 - lr: 2.0000e-04\n",
            "Epoch 24/50\n",
            "80/81 [============================>.] - ETA: 0s - loss: 0.0174 - acc: 0.9953\n",
            "Epoch 24: val_acc did not improve from 1.00000\n",
            "81/81 [==============================] - 1s 13ms/step - loss: 0.0172 - acc: 0.9954 - val_loss: 0.0053 - val_acc: 0.9965 - lr: 2.0000e-04\n",
            "Epoch 25/50\n",
            "81/81 [==============================] - ETA: 0s - loss: 0.0133 - acc: 0.9946\n",
            "Epoch 25: val_acc did not improve from 1.00000\n",
            "81/81 [==============================] - 1s 14ms/step - loss: 0.0133 - acc: 0.9946 - val_loss: 0.0047 - val_acc: 0.9965 - lr: 2.0000e-04\n",
            "Epoch 26/50\n",
            "78/81 [===========================>..] - ETA: 0s - loss: 0.0103 - acc: 0.9960\n",
            "Epoch 26: val_acc did not improve from 1.00000\n",
            "81/81 [==============================] - 1s 14ms/step - loss: 0.0117 - acc: 0.9950 - val_loss: 0.0054 - val_acc: 0.9965 - lr: 2.0000e-04\n",
            "Epoch 27/50\n",
            "79/81 [============================>.] - ETA: 0s - loss: 0.0117 - acc: 0.9956\n",
            "Epoch 27: val_acc did not improve from 1.00000\n",
            "81/81 [==============================] - 1s 14ms/step - loss: 0.0114 - acc: 0.9957 - val_loss: 0.0030 - val_acc: 1.0000 - lr: 2.0000e-04\n",
            "Epoch 28/50\n",
            "80/81 [============================>.] - ETA: 0s - loss: 0.0121 - acc: 0.9961\n",
            "Epoch 28: val_acc did not improve from 1.00000\n",
            "81/81 [==============================] - 1s 14ms/step - loss: 0.0120 - acc: 0.9961 - val_loss: 0.0048 - val_acc: 1.0000 - lr: 2.0000e-04\n",
            "Epoch 29/50\n",
            "81/81 [==============================] - ETA: 0s - loss: 0.0085 - acc: 0.9973\n",
            "Epoch 29: val_acc did not improve from 1.00000\n",
            "\n",
            "Epoch 29: ReduceLROnPlateau reducing learning rate to 4.0000001899898055e-05.\n",
            "81/81 [==============================] - 1s 13ms/step - loss: 0.0085 - acc: 0.9973 - val_loss: 7.4463e-04 - val_acc: 1.0000 - lr: 2.0000e-04\n",
            "Epoch 30/50\n",
            "80/81 [============================>.] - ETA: 0s - loss: 0.0104 - acc: 0.9965\n",
            "Epoch 30: val_acc did not improve from 1.00000\n",
            "81/81 [==============================] - 1s 15ms/step - loss: 0.0103 - acc: 0.9965 - val_loss: 8.5139e-04 - val_acc: 1.0000 - lr: 4.0000e-05\n",
            "Epoch 31/50\n",
            "79/81 [============================>.] - ETA: 0s - loss: 0.0035 - acc: 0.9996\n",
            "Epoch 31: val_acc did not improve from 1.00000\n",
            "81/81 [==============================] - 1s 14ms/step - loss: 0.0034 - acc: 0.9996 - val_loss: 9.2581e-04 - val_acc: 1.0000 - lr: 4.0000e-05\n",
            "Epoch 32/50\n",
            "80/81 [============================>.] - ETA: 0s - loss: 0.0055 - acc: 0.9984\n",
            "Epoch 32: val_acc did not improve from 1.00000\n",
            "81/81 [==============================] - 1s 13ms/step - loss: 0.0054 - acc: 0.9985 - val_loss: 8.4153e-04 - val_acc: 1.0000 - lr: 4.0000e-05\n",
            "Epoch 33/50\n",
            "78/81 [===========================>..] - ETA: 0s - loss: 0.0078 - acc: 0.9980\n",
            "Epoch 33: val_acc did not improve from 1.00000\n",
            "81/81 [==============================] - 1s 14ms/step - loss: 0.0077 - acc: 0.9981 - val_loss: 0.0012 - val_acc: 1.0000 - lr: 4.0000e-05\n",
            "Epoch 34/50\n",
            "79/81 [============================>.] - ETA: 0s - loss: 0.0089 - acc: 0.9972\n",
            "Epoch 34: val_acc did not improve from 1.00000\n",
            "81/81 [==============================] - 1s 13ms/step - loss: 0.0091 - acc: 0.9969 - val_loss: 0.0014 - val_acc: 1.0000 - lr: 4.0000e-05\n",
            "Epoch 35/50\n",
            "78/81 [===========================>..] - ETA: 0s - loss: 0.0101 - acc: 0.9972\n",
            "Epoch 35: val_acc did not improve from 1.00000\n",
            "81/81 [==============================] - 1s 16ms/step - loss: 0.0099 - acc: 0.9973 - val_loss: 0.0018 - val_acc: 1.0000 - lr: 4.0000e-05\n",
            "Epoch 36/50\n",
            "80/81 [============================>.] - ETA: 0s - loss: 0.0077 - acc: 0.9969\n",
            "Epoch 36: val_acc did not improve from 1.00000\n",
            "81/81 [==============================] - 1s 17ms/step - loss: 0.0077 - acc: 0.9969 - val_loss: 0.0013 - val_acc: 1.0000 - lr: 4.0000e-05\n",
            "Epoch 37/50\n",
            "80/81 [============================>.] - ETA: 0s - loss: 0.0061 - acc: 0.9980\n",
            "Epoch 37: val_acc did not improve from 1.00000\n",
            "81/81 [==============================] - 1s 13ms/step - loss: 0.0061 - acc: 0.9981 - val_loss: 0.0012 - val_acc: 1.0000 - lr: 4.0000e-05\n",
            "Epoch 38/50\n",
            "79/81 [============================>.] - ETA: 0s - loss: 0.0093 - acc: 0.9964\n",
            "Epoch 38: val_acc did not improve from 1.00000\n",
            "81/81 [==============================] - 1s 13ms/step - loss: 0.0092 - acc: 0.9965 - val_loss: 0.0016 - val_acc: 1.0000 - lr: 4.0000e-05\n",
            "Epoch 39/50\n",
            "81/81 [==============================] - ETA: 0s - loss: 0.0094 - acc: 0.9969\n",
            "Epoch 39: val_acc did not improve from 1.00000\n",
            "\n",
            "Epoch 39: ReduceLROnPlateau reducing learning rate to 1e-05.\n",
            "81/81 [==============================] - 1s 13ms/step - loss: 0.0094 - acc: 0.9969 - val_loss: 0.0014 - val_acc: 1.0000 - lr: 4.0000e-05\n",
            "Epoch 40/50\n",
            "78/81 [===========================>..] - ETA: 0s - loss: 0.0062 - acc: 0.9972\n",
            "Epoch 40: val_acc did not improve from 1.00000\n",
            "81/81 [==============================] - 1s 13ms/step - loss: 0.0061 - acc: 0.9973 - val_loss: 0.0015 - val_acc: 1.0000 - lr: 1.0000e-05\n",
            "Epoch 41/50\n",
            "80/81 [============================>.] - ETA: 0s - loss: 0.0076 - acc: 0.9965\n",
            "Epoch 41: val_acc did not improve from 1.00000\n",
            "81/81 [==============================] - 1s 13ms/step - loss: 0.0075 - acc: 0.9965 - val_loss: 0.0015 - val_acc: 1.0000 - lr: 1.0000e-05\n",
            "Epoch 42/50\n",
            "79/81 [============================>.] - ETA: 0s - loss: 0.0078 - acc: 0.9976\n",
            "Epoch 42: val_acc did not improve from 1.00000\n",
            "81/81 [==============================] - 1s 13ms/step - loss: 0.0080 - acc: 0.9973 - val_loss: 0.0015 - val_acc: 1.0000 - lr: 1.0000e-05\n",
            "Epoch 43/50\n",
            "79/81 [============================>.] - ETA: 0s - loss: 0.0106 - acc: 0.9964\n",
            "Epoch 43: val_acc did not improve from 1.00000\n",
            "81/81 [==============================] - 1s 13ms/step - loss: 0.0104 - acc: 0.9965 - val_loss: 0.0016 - val_acc: 1.0000 - lr: 1.0000e-05\n",
            "Epoch 44/50\n",
            "80/81 [============================>.] - ETA: 0s - loss: 0.0101 - acc: 0.9961\n",
            "Epoch 44: val_acc did not improve from 1.00000\n",
            "81/81 [==============================] - 1s 14ms/step - loss: 0.0100 - acc: 0.9961 - val_loss: 0.0015 - val_acc: 1.0000 - lr: 1.0000e-05\n",
            "Epoch 45/50\n",
            "78/81 [===========================>..] - ETA: 0s - loss: 0.0085 - acc: 0.9976\n",
            "Epoch 45: val_acc did not improve from 1.00000\n",
            "81/81 [==============================] - 1s 13ms/step - loss: 0.0084 - acc: 0.9977 - val_loss: 0.0015 - val_acc: 1.0000 - lr: 1.0000e-05\n",
            "Epoch 46/50\n",
            "77/81 [===========================>..] - ETA: 0s - loss: 0.0076 - acc: 0.9972\n",
            "Epoch 46: val_acc did not improve from 1.00000\n",
            "81/81 [==============================] - 1s 14ms/step - loss: 0.0073 - acc: 0.9973 - val_loss: 0.0015 - val_acc: 1.0000 - lr: 1.0000e-05\n",
            "Epoch 47/50\n",
            "78/81 [===========================>..] - ETA: 0s - loss: 0.0108 - acc: 0.9972\n",
            "Epoch 47: val_acc did not improve from 1.00000\n",
            "81/81 [==============================] - 1s 13ms/step - loss: 0.0105 - acc: 0.9973 - val_loss: 0.0016 - val_acc: 1.0000 - lr: 1.0000e-05\n",
            "Epoch 48/50\n",
            "79/81 [============================>.] - ETA: 0s - loss: 0.0058 - acc: 0.9984\n",
            "Epoch 48: val_acc did not improve from 1.00000\n",
            "81/81 [==============================] - 1s 14ms/step - loss: 0.0061 - acc: 0.9981 - val_loss: 0.0015 - val_acc: 1.0000 - lr: 1.0000e-05\n",
            "Epoch 49/50\n",
            "78/81 [===========================>..] - ETA: 0s - loss: 0.0058 - acc: 0.9992\n",
            "Epoch 49: val_acc did not improve from 1.00000\n",
            "81/81 [==============================] - 1s 13ms/step - loss: 0.0057 - acc: 0.9992 - val_loss: 0.0016 - val_acc: 1.0000 - lr: 1.0000e-05\n",
            "Epoch 50/50\n",
            "80/81 [============================>.] - ETA: 0s - loss: 0.0097 - acc: 0.9973\n",
            "Epoch 50: val_acc did not improve from 1.00000\n",
            "81/81 [==============================] - 1s 15ms/step - loss: 0.0099 - acc: 0.9969 - val_loss: 0.0016 - val_acc: 1.0000 - lr: 1.0000e-05\n"
          ]
        },
        {
          "output_type": "execute_result",
          "data": {
            "text/plain": [
              "<keras.callbacks.History at 0x7f07202ff290>"
            ]
          },
          "metadata": {},
          "execution_count": 7
        }
      ]
    },
    {
      "cell_type": "code",
      "source": [
        "from sklearn.metrics import accuracy_score, confusion_matrix\n",
        "import seaborn as sns\n",
        "\n",
        "model = load_model('models/%s.h5' % (start_time))\n",
        "\n",
        "y_pred = model.predict(x_val/255.)\n",
        "y_pred_logical = (y_pred > 0.5).astype(np.int)\n",
        "\n",
        "print ('test acc: %s' % accuracy_score(y_val, y_pred_logical))\n",
        "cm = confusion_matrix(y_val, y_pred_logical)\n",
        "sns.heatmap(cm, annot=True)"
      ],
      "metadata": {
        "colab": {
          "base_uri": "https://localhost:8080/",
          "height": 377
        },
        "id": "XJxbNddx0Drs",
        "outputId": "e05c8022-d076-40b2-8c79-1ad334170d14"
      },
      "execution_count": 8,
      "outputs": [
        {
          "output_type": "stream",
          "name": "stdout",
          "text": [
            "test acc: 1.0\n"
          ]
        },
        {
          "output_type": "stream",
          "name": "stderr",
          "text": [
            "/usr/local/lib/python3.7/dist-packages/ipykernel_launcher.py:7: DeprecationWarning: `np.int` is a deprecated alias for the builtin `int`. To silence this warning, use `int` by itself. Doing this will not modify any behavior and is safe. When replacing `np.int`, you may wish to use e.g. `np.int64` or `np.int32` to specify the precision. If you wish to review your current use, check the release note link for additional information.\n",
            "Deprecated in NumPy 1.20; for more details and guidance: https://numpy.org/devdocs/release/1.20.0-notes.html#deprecations\n",
            "  import sys\n"
          ]
        },
        {
          "output_type": "execute_result",
          "data": {
            "text/plain": [
              "<matplotlib.axes._subplots.AxesSubplot at 0x7f06b2279e50>"
            ]
          },
          "metadata": {},
          "execution_count": 8
        },
        {
          "output_type": "display_data",
          "data": {
            "text/plain": [
              "<Figure size 432x288 with 2 Axes>"
            ],
            "image/png": "[encoded data removed]"
          },
          "metadata": {
            "needs_background": "dark"
          }
        }
      ]
    },
    {
      "cell_type": "code",
      "source": [
        "ax = sns.distplot(y_pred, kde=False)"
      ],
      "metadata": {
        "colab": {
          "base_uri": "https://localhost:8080/",
          "height": 322
        },
        "id": "q3xcP2BP0T2e",
        "outputId": "081e5b2c-cf0b-47ad-da75-a3ba5a5af696"
      },
      "execution_count": 9,
      "outputs": [
        {
          "output_type": "stream",
          "name": "stderr",
          "text": [
            "/usr/local/lib/python3.7/dist-packages/seaborn/distributions.py:2619: FutureWarning: `distplot` is a deprecated function and will be removed in a future version. Please adapt your code to use either `displot` (a figure-level function with similar flexibility) or `histplot` (an axes-level function for histograms).\n",
            "  warnings.warn(msg, FutureWarning)\n"
          ]
        },
        {
          "output_type": "display_data",
          "data": {
            "text/plain": [
              "<Figure size 432x288 with 1 Axes>"
            ],
            "image/png": "[encoded data removed]"
          },
          "metadata": {
            "needs_background": "dark"
          }
        }
      ]
    },
    {
      "cell_type": "code",
      "source": [
        "import cv2, dlib\n",
        "import numpy as np\n",
        "from imutils import face_utils\n",
        "from keras.models import load_model\n",
        "from google.colab.patches import cv2_imshow\n",
        "\n",
        "IMG_SIZE = (34, 26)\n",
        "\n",
        "detector = dlib.get_frontal_face_detector()\n",
        "predictor = dlib.shape_predictor('/content/shape_predictor_68_face_landmarks.dat')\n",
        "\n",
        "model = load_model('/content/models/2022_03_23_02_10_30.h5')\n",
        "model.summary()\n",
        "\n",
        "def crop_eye(img, eye_points):\n",
        "  x1, y1 = np.amin(eye_points, axis=0)\n",
        "  x2, y2 = np.amax(eye_points, axis=0)\n",
        "  cx, cy = (x1 + x2) / 2, (y1 + y2) / 2\n",
        "\n",
        "  w = (x2 - x1) * 1.2\n",
        "  h = w * IMG_SIZE[1] / IMG_SIZE[0]\n",
        "\n",
        "  margin_x, margin_y = w / 2, h / 2\n",
        "\n",
        "  min_x, min_y = int(cx - margin_x), int(cy - margin_y)\n",
        "  max_x, max_y = int(cx + margin_x), int(cy + margin_y)\n",
        "\n",
        "  eye_rect = np.rint([min_x, min_y, max_x, max_y]).astype(np.int)\n",
        "\n",
        "  eye_img = gray[eye_rect[1]:eye_rect[3], eye_rect[0]:eye_rect[2]]\n",
        "\n",
        "  return eye_img, eye_rect\n",
        "\n",
        "# main\n",
        "cap = cv2.VideoCapture('/drive/eye_test.mp4')\n",
        "\n",
        "while cap.isOpened():\n",
        "  ret, img_ori = cap.read()\n",
        "\n",
        "  if not ret:\n",
        "    break\n",
        "\n",
        "  img_ori = cv2.resize(img_ori, dsize=(0, 0), fx=0.5, fy=0.5)\n",
        "\n",
        "  img = img_ori.copy()\n",
        "  gray = cv2.cvtColor(img, cv2.COLOR_BGR2GRAY)\n",
        "\n",
        "  faces = detector(gray)\n",
        "\n",
        "  for face in faces:\n",
        "    shapes = predictor(gray, face)\n",
        "    shapes = face_utils.shape_to_np(shapes)\n",
        "\n",
        "    eye_img_l, eye_rect_l = crop_eye(gray, eye_points=shapes[36:42])\n",
        "    eye_img_r, eye_rect_r = crop_eye(gray, eye_points=shapes[42:48])\n",
        "\n",
        "    eye_img_l = cv2.resize(eye_img_l, dsize=IMG_SIZE)\n",
        "    eye_img_r = cv2.resize(eye_img_r, dsize=IMG_SIZE)\n",
        "    eye_img_r = cv2.flip(eye_img_r, flipCode=1)\n",
        "\n",
        "    cv2_imshow(eye_img_l)\n",
        "    cv2_imshow(eye_img_r)\n",
        "\n",
        "    eye_input_l = eye_img_l.copy().reshape((1, IMG_SIZE[1], IMG_SIZE[0], 1)).astype(np.float32) / 255.\n",
        "    eye_input_r = eye_img_r.copy().reshape((1, IMG_SIZE[1], IMG_SIZE[0], 1)).astype(np.float32) / 255.\n",
        "\n",
        "    pred_l = model.predict(eye_input_l)\n",
        "    pred_r = model.predict(eye_input_r)\n",
        "\n",
        "    # visualize\n",
        "    state_l = 'O %.1f' if pred_l > 0.1 else '- %.1f'\n",
        "    state_r = 'O %.1f' if pred_r > 0.1 else '- %.1f'\n",
        "\n",
        "    state_l = state_l % pred_l\n",
        "    state_r = state_r % pred_r\n",
        "\n",
        "    cv2.rectangle(img, pt1=tuple(eye_rect_l[0:2]), pt2=tuple(eye_rect_l[2:4]), color=(255,255,255), thickness=2)\n",
        "    cv2.rectangle(img, pt1=tuple(eye_rect_r[0:2]), pt2=tuple(eye_rect_r[2:4]), color=(255,255,255), thickness=2)\n",
        "\n",
        "    cv2.putText(img, state_l, tuple(eye_rect_l[0:2]), cv2.FONT_HERSHEY_SIMPLEX, 0.7, (255,255,255), 2)\n",
        "    cv2.putText(img, state_r, tuple(eye_rect_r[0:2]), cv2.FONT_HERSHEY_SIMPLEX, 0.7, (255,255,255), 2)\n",
        "\n",
        "  cv2_imshow(img)\n",
        "  if cv2.waitKey(1) == ord('q'):\n",
        "    break"
      ],
      "metadata": {
        "colab": {
          "base_uri": "https://localhost:8080/"
        },
        "id": "7h-keM3S2UZp",
        "outputId": "0bed598c-a340-483d-faa6-bdacad440f9b"
      },
      "execution_count": 11,
      "outputs": [
        {
          "output_type": "stream",
          "name": "stdout",
          "text": [
            "Model: \"model\"\n",
            "_________________________________________________________________\n",
            " Layer (type)                Output Shape              Param #   \n",
            "=================================================================\n",
            " input_1 (InputLayer)        [(None, 26, 34, 1)]       0         \n",
            "                                                                 \n",
            " conv2d (Conv2D)             (None, 26, 34, 32)        320       \n",
            "                                                                 \n",
            " max_pooling2d (MaxPooling2D  (None, 13, 17, 32)       0         \n",
            " )                                                               \n",
            "                                                                 \n",
            " conv2d_1 (Conv2D)           (None, 13, 17, 64)        18496     \n",
            "                                                                 \n",
            " max_pooling2d_1 (MaxPooling  (None, 6, 8, 64)         0         \n",
            " 2D)                                                             \n",
            "                                                                 \n",
            " conv2d_2 (Conv2D)           (None, 6, 8, 128)         73856     \n",
            "                                                                 \n",
            " max_pooling2d_2 (MaxPooling  (None, 3, 4, 128)        0         \n",
            " 2D)                                                             \n",
            "                                                                 \n",
            " flatten (Flatten)           (None, 1536)              0         \n",
            "                                                                 \n",
            " dense (Dense)               (None, 512)               786944    \n",
            "                                                                 \n",
            " activation (Activation)     (None, 512)               0         \n",
            "                                                                 \n",
            " dense_1 (Dense)             (None, 1)                 513       \n",
            "                                                                 \n",
            " activation_1 (Activation)   (None, 1)                 0         \n",
            "                                                                 \n",
            "=================================================================\n",
            "Total params: 880,129\n",
            "Trainable params: 880,129\n",
            "Non-trainable params: 0\n",
            "_________________________________________________________________\n"
          ]
        }
      ]
    }
  ]
}